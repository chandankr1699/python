{
 "cells": [
  {
   "cell_type": "code",
   "execution_count": 2,
   "id": "41dbc021-53de-4147-994b-805464e626f3",
   "metadata": {},
   "outputs": [],
   "source": [
    "f = open(\"test.txt\", \"w\")"
   ]
  },
  {
   "cell_type": "code",
   "execution_count": 3,
   "id": "bd8f2a98-cb80-4709-b00d-6a18d8c932db",
   "metadata": {},
   "outputs": [
    {
     "data": {
      "text/plain": [
       "'/home/jovyan'"
      ]
     },
     "execution_count": 3,
     "metadata": {},
     "output_type": "execute_result"
    }
   ],
   "source": [
    "pwd"
   ]
  },
  {
   "cell_type": "code",
   "execution_count": 4,
   "id": "1786b684-374f-48e7-a9d5-bc3c04a29bba",
   "metadata": {},
   "outputs": [
    {
     "name": "stdout",
     "output_type": "stream",
     "text": [
      "test.txt  Untitled.ipynb  \u001b[0m\u001b[01;34mwork\u001b[0m/\n"
     ]
    }
   ],
   "source": [
    "ls"
   ]
  },
  {
   "cell_type": "code",
   "execution_count": 5,
   "id": "af8742c5-615a-4bbb-b2d2-c6f4738fad38",
   "metadata": {},
   "outputs": [
    {
     "name": "stdout",
     "output_type": "stream",
     "text": [
      "/home/jovyan/work\n"
     ]
    }
   ],
   "source": [
    "cd work"
   ]
  },
  {
   "cell_type": "code",
   "execution_count": 6,
   "id": "635638a5-addf-49c7-9415-0cbc7b83f378",
   "metadata": {},
   "outputs": [
    {
     "name": "stdout",
     "output_type": "stream",
     "text": [
      "'Assignment 01.ipynb'             'python(dict, conditional loop).ipynb'\n",
      "'Assignment 02.ipynb'             'python(for loop).ipynb'\n",
      "'Assignment (Functions).ipynb'    'python (Function basics).ipynb'\n",
      "'Assignment (Oops).ipynb'         'python ( Generator function).ipynb'\n",
      " copy_test.txt                    'python (Lambda function).ipynb'\n",
      "'Practice sheet 02.ipynb'         'python (list, tuple & set).ipynb'\n",
      "'Practice sheet 03.ipynb'         'python (Map,Reduce & Filter Fun.).ipynb'\n",
      "'Practice sheet 04.ipynb'         'Python Oops (Abstraction).ipynb'\n",
      "'Practice sheet 05.ipynb'         'Python Oops (Encapsulation).ipynb'\n",
      "'Practice sheet 07.ipynb'         'Python Oops (Inheritance).ipynb'\n",
      "'Practice sheet 08 (oops).ipynb'  'Python (Oops).ipynb'\n",
      "'Practice sheet 6.ipynb'          'Python Oops (Polymorphism).ipynb'\n",
      "'Practice sheet.ipynb'            'Python (Property Decorators).ipynb'\n",
      "'practice sheet (oops).ipynb'     'Python Special (magic, dunder) .ipynb'\n",
      "'Practice Sheet Pattern.ipynb'    'Python Static Method.ipynb'\n",
      "'Python basics.ipynb'             'python (while loop).ipynb'\n",
      "'Python Class Methods.ipynb'      'rough sheet (static method).ipynb'\n",
      "'python (comprehension).ipynb'     test.txt\n",
      "'Python Decorators.ipynb'\n"
     ]
    }
   ],
   "source": [
    "ls"
   ]
  },
  {
   "cell_type": "code",
   "execution_count": 7,
   "id": "d9ca5e42-81ab-4dd3-a5ff-e4214505ed1a",
   "metadata": {},
   "outputs": [
    {
     "data": {
      "text/plain": [
       "30"
      ]
     },
     "execution_count": 7,
     "metadata": {},
     "output_type": "execute_result"
    }
   ],
   "source": [
    "f.write(\"this is my first file to write\")"
   ]
  },
  {
   "cell_type": "code",
   "execution_count": 9,
   "id": "3ca47d89-9684-4a50-b4ac-4ce8ec71daa0",
   "metadata": {},
   "outputs": [],
   "source": [
    "f.close()"
   ]
  },
  {
   "cell_type": "code",
   "execution_count": 10,
   "id": "b79a09c0-dfff-4c73-b3ba-459ee7ecc26a",
   "metadata": {},
   "outputs": [],
   "source": [
    "f = open(\"test.txt\", \"w\")"
   ]
  },
  {
   "cell_type": "code",
   "execution_count": 11,
   "id": "bdb8c2b3-c1c5-404c-9210-d69d313ecae6",
   "metadata": {},
   "outputs": [
    {
     "data": {
      "text/plain": [
       "15"
      ]
     },
     "execution_count": 11,
     "metadata": {},
     "output_type": "execute_result"
    }
   ],
   "source": [
    "f.write(\"this is my file\")"
   ]
  },
  {
   "cell_type": "code",
   "execution_count": 12,
   "id": "95dcd2f0-5595-44f4-8d7b-34773ccbf276",
   "metadata": {},
   "outputs": [],
   "source": [
    "f.close()"
   ]
  },
  {
   "cell_type": "code",
   "execution_count": 13,
   "id": "f4d53fd7-b015-4438-b436-f0fe0f1c5db0",
   "metadata": {},
   "outputs": [],
   "source": [
    "f = open(\"test.txt\", \"a\")"
   ]
  },
  {
   "cell_type": "code",
   "execution_count": 14,
   "id": "12b236f3-6125-43cc-b41e-428c8c51f915",
   "metadata": {},
   "outputs": [
    {
     "data": {
      "text/plain": [
       "415"
      ]
     },
     "execution_count": 14,
     "metadata": {},
     "output_type": "execute_result"
    }
   ],
   "source": [
    "f.write(\"A section of a written work A passage is a short section of a written work, such as a book, poem, or speech, that is relevant to a point being discussed or notable for its content or style. It can be a sentence or two, or several paragraphs long. Passages can serve a variety of purposes, such as introducing characters, setting the scene, providing background information, advancing the plot, or delivering dialogu\")"
   ]
  },
  {
   "cell_type": "code",
   "execution_count": 15,
   "id": "6e0fe979-1a1f-47d9-a4cb-bebe7152b7de",
   "metadata": {},
   "outputs": [],
   "source": [
    "f.close()"
   ]
  },
  {
   "cell_type": "code",
   "execution_count": 18,
   "id": "bddb0123-4290-4e47-b08e-f1757bf1cc96",
   "metadata": {},
   "outputs": [],
   "source": [
    "data = open(\"test.txt\", \"r\")"
   ]
  },
  {
   "cell_type": "code",
   "execution_count": 21,
   "id": "6c2ed23c-4fe9-4c4e-b792-d394d9ebedb2",
   "metadata": {},
   "outputs": [
    {
     "data": {
      "text/plain": [
       "'this is my fileA section of a written work A passage is a short section of a written work, such as a book, poem, or speech, that is relevant to a point being discussed or notable for its content or style. It can be a sentence or two, or several paragraphs long. Passages can serve a variety of purposes, such as introducing characters, setting the scene, providing background information, advancing the plot, or delivering dialogu'"
      ]
     },
     "execution_count": 21,
     "metadata": {},
     "output_type": "execute_result"
    }
   ],
   "source": [
    "data.read()"
   ]
  },
  {
   "cell_type": "code",
   "execution_count": 22,
   "id": "27f00b7f-f4fa-43eb-81e6-9cfac64a041e",
   "metadata": {},
   "outputs": [
    {
     "data": {
      "text/plain": [
       "''"
      ]
     },
     "execution_count": 22,
     "metadata": {},
     "output_type": "execute_result"
    }
   ],
   "source": [
    "data.readline()"
   ]
  },
  {
   "cell_type": "code",
   "execution_count": 23,
   "id": "e4b5f5cf-c636-401c-a86c-b5a466d9a92d",
   "metadata": {},
   "outputs": [
    {
     "data": {
      "text/plain": [
       "0"
      ]
     },
     "execution_count": 23,
     "metadata": {},
     "output_type": "execute_result"
    }
   ],
   "source": [
    "data.seek(0)"
   ]
  },
  {
   "cell_type": "code",
   "execution_count": 24,
   "id": "5a92f540-9fbf-4d7f-bda8-0fe1f255f6a5",
   "metadata": {},
   "outputs": [
    {
     "data": {
      "text/plain": [
       "'this is my fileA section of a written work A passage is a short section of a written work, such as a book, poem, or speech, that is relevant to a point being discussed or notable for its content or style. It can be a sentence or two, or several paragraphs long. Passages can serve a variety of purposes, such as introducing characters, setting the scene, providing background information, advancing the plot, or delivering dialogu'"
      ]
     },
     "execution_count": 24,
     "metadata": {},
     "output_type": "execute_result"
    }
   ],
   "source": [
    "data.readline()"
   ]
  },
  {
   "cell_type": "code",
   "execution_count": 25,
   "id": "3ab8f21c-5e38-4c99-a3fc-a0475849fa03",
   "metadata": {},
   "outputs": [
    {
     "data": {
      "text/plain": [
       "''"
      ]
     },
     "execution_count": 25,
     "metadata": {},
     "output_type": "execute_result"
    }
   ],
   "source": [
    "data.readline()"
   ]
  },
  {
   "cell_type": "code",
   "execution_count": 26,
   "id": "f03466c8-5b90-4ee7-b0e7-637df851fb55",
   "metadata": {},
   "outputs": [
    {
     "data": {
      "text/plain": [
       "10"
      ]
     },
     "execution_count": 26,
     "metadata": {},
     "output_type": "execute_result"
    }
   ],
   "source": [
    "data.seek(10)"
   ]
  },
  {
   "cell_type": "code",
   "execution_count": 27,
   "id": "fcfa7d8a-d49d-4a00-a865-eecbcbaa6e88",
   "metadata": {},
   "outputs": [
    {
     "data": {
      "text/plain": [
       "' fileA section of a written work A passage is a short section of a written work, such as a book, poem, or speech, that is relevant to a point being discussed or notable for its content or style. It can be a sentence or two, or several paragraphs long. Passages can serve a variety of purposes, such as introducing characters, setting the scene, providing background information, advancing the plot, or delivering dialogu'"
      ]
     },
     "execution_count": 27,
     "metadata": {},
     "output_type": "execute_result"
    }
   ],
   "source": [
    "data.readline()"
   ]
  },
  {
   "cell_type": "code",
   "execution_count": 28,
   "id": "6563ba5a-5fb2-4063-8d8f-da3a74fa4098",
   "metadata": {},
   "outputs": [],
   "source": [
    "data1 = open(\"test.txt\", 'r')"
   ]
  },
  {
   "cell_type": "code",
   "execution_count": 29,
   "id": "7af2cb83-93b1-4aad-82c7-70053c52b8e0",
   "metadata": {},
   "outputs": [
    {
     "name": "stdout",
     "output_type": "stream",
     "text": [
      "this is my fileA section of a written work A passage is a short section of a written work, such as a book, poem, or speech, that is relevant to a point being discussed or notable for its content or style. It can be a sentence or two, or several paragraphs long. Passages can serve a variety of purposes, such as introducing characters, setting the scene, providing background information, advancing the plot, or delivering dialogu\n"
     ]
    }
   ],
   "source": [
    "for i in data1:\n",
    "    print(i)"
   ]
  },
  {
   "cell_type": "code",
   "execution_count": 30,
   "id": "0640f6c1-344a-4e3f-8710-6375666592b2",
   "metadata": {},
   "outputs": [],
   "source": [
    "import os"
   ]
  },
  {
   "cell_type": "code",
   "execution_count": 31,
   "id": "7be69e85-d5bb-48fc-add0-a53ff2833458",
   "metadata": {},
   "outputs": [
    {
     "data": {
      "text/plain": [
       "430"
      ]
     },
     "execution_count": 31,
     "metadata": {},
     "output_type": "execute_result"
    }
   ],
   "source": [
    "os.path.getsize(\"test.txt\")"
   ]
  },
  {
   "cell_type": "code",
   "execution_count": 32,
   "id": "57d4bb7c-9a5c-4469-a887-83f138c05710",
   "metadata": {},
   "outputs": [],
   "source": [
    "os.remove(\"test.txt\")"
   ]
  },
  {
   "cell_type": "code",
   "execution_count": 33,
   "id": "205f7438-bcc6-486f-9a31-a665a4f56aca",
   "metadata": {},
   "outputs": [],
   "source": [
    "f = open(\"test1.txt\", 'w')"
   ]
  },
  {
   "cell_type": "code",
   "execution_count": 34,
   "id": "48b5f2b0-031a-49ca-b478-cdc753b3c898",
   "metadata": {},
   "outputs": [
    {
     "data": {
      "text/plain": [
       "416"
      ]
     },
     "execution_count": 34,
     "metadata": {},
     "output_type": "execute_result"
    }
   ],
   "source": [
    "f.write(\"A section of a written work A passage is a short section of a written work, such as a book, poem, or speech, that is relevant to a point being discussed or notable for its content or style. It can be a sentence or two, or several paragraphs long. Passages can serve a variety of purposes, such as introducing characters, setting the scene, providing background information, advancing the plot, or delivering dialogue\")"
   ]
  },
  {
   "cell_type": "code",
   "execution_count": 35,
   "id": "a425c411-dcbe-4645-9b9f-9dc115dfb894",
   "metadata": {},
   "outputs": [],
   "source": [
    "f.close()"
   ]
  },
  {
   "cell_type": "code",
   "execution_count": 36,
   "id": "6ac773dd-70ec-468e-b237-df6b654cf6c9",
   "metadata": {},
   "outputs": [],
   "source": [
    "os.rename(\"test1.txt\", \"new.txt\")"
   ]
  },
  {
   "cell_type": "code",
   "execution_count": 37,
   "id": "99b7e9a2-f13f-4e4f-9da7-72fb9077a067",
   "metadata": {},
   "outputs": [],
   "source": [
    "import shutil"
   ]
  },
  {
   "cell_type": "code",
   "execution_count": 38,
   "id": "357c9a3c-cf8e-4ccc-960f-32ac7933cbc0",
   "metadata": {},
   "outputs": [
    {
     "data": {
      "text/plain": [
       "'copy_new.txt'"
      ]
     },
     "execution_count": 38,
     "metadata": {},
     "output_type": "execute_result"
    }
   ],
   "source": [
    "shutil.copy(\"new.txt\", \"copy_new.txt\")"
   ]
  },
  {
   "cell_type": "code",
   "execution_count": 40,
   "id": "ae19b81b-14cf-4ec0-a040-5fd61bec0e95",
   "metadata": {},
   "outputs": [
    {
     "name": "stdout",
     "output_type": "stream",
     "text": [
      "A section of a written work A passage is a short section of a written work, such as a book, poem, or speech, that is relevant to a point being discussed or notable for its content or style. It can be a sentence or two, or several paragraphs long. Passages can serve a variety of purposes, such as introducing characters, setting the scene, providing background information, advancing the plot, or delivering dialogue\n"
     ]
    }
   ],
   "source": [
    "with open(\"new.txt\", \"r\") as f:\n",
    "    print(f.read())"
   ]
  },
  {
   "cell_type": "code",
   "execution_count": null,
   "id": "206fc954-4d71-4cd1-bb0b-afd7e1426246",
   "metadata": {},
   "outputs": [],
   "source": []
  }
 ],
 "metadata": {
  "kernelspec": {
   "display_name": "Python 3 (ipykernel)",
   "language": "python",
   "name": "python3"
  },
  "language_info": {
   "codemirror_mode": {
    "name": "ipython",
    "version": 3
   },
   "file_extension": ".py",
   "mimetype": "text/x-python",
   "name": "python",
   "nbconvert_exporter": "python",
   "pygments_lexer": "ipython3",
   "version": "3.10.8"
  }
 },
 "nbformat": 4,
 "nbformat_minor": 5
}
