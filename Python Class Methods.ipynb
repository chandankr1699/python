{
 "cells": [
  {
   "cell_type": "code",
   "execution_count": 1,
   "id": "60f4fe27-a1ca-48c8-adae-cda22a00ba06",
   "metadata": {},
   "outputs": [],
   "source": [
    "class pwskills:\n",
    "    \n",
    "    def __init__(self, name, email):\n",
    "        self.name= name\n",
    "        self.email= email\n",
    "    \n",
    "    def student_details(self):\n",
    "        print(self.name, self.email)"
   ]
  },
  {
   "cell_type": "code",
   "execution_count": 2,
   "id": "c010ca17-860f-431a-b2d8-fe1b0b87a019",
   "metadata": {},
   "outputs": [],
   "source": [
    "pw= pwskills(\"mohan\", \"mohan@gmail.com\")"
   ]
  },
  {
   "cell_type": "code",
   "execution_count": 3,
   "id": "944a61ef-2b9a-4cf5-aeb9-b0bb81b9df19",
   "metadata": {},
   "outputs": [
    {
     "data": {
      "text/plain": [
       "'mohan'"
      ]
     },
     "execution_count": 3,
     "metadata": {},
     "output_type": "execute_result"
    }
   ],
   "source": [
    "pw.name"
   ]
  },
  {
   "cell_type": "code",
   "execution_count": 4,
   "id": "bb928af9-89f5-482b-826a-58e5b2a95c6e",
   "metadata": {},
   "outputs": [
    {
     "name": "stdout",
     "output_type": "stream",
     "text": [
      "mohan mohan@gmail.com\n"
     ]
    }
   ],
   "source": [
    "pw.student_details()"
   ]
  },
  {
   "cell_type": "code",
   "execution_count": 5,
   "id": "0068e045-4dd6-452f-8283-1daf3e25c242",
   "metadata": {},
   "outputs": [],
   "source": [
    "class pwskills1:\n",
    "    \n",
    "    def __init__(self, name, email):\n",
    "        self.name= name\n",
    "        self.email= email\n",
    "    @classmethod\n",
    "    def details(cls, name, email):\n",
    "        return cls(name, email)\n",
    "    \n",
    "    def student_details(self):\n",
    "        print(self.name, self.email)"
   ]
  },
  {
   "cell_type": "code",
   "execution_count": 6,
   "id": "bd7bca0c-cd1c-46a6-873f-a2721acc984b",
   "metadata": {},
   "outputs": [],
   "source": [
    "pw1 = pwskills1.details(\"chandan\", \"chandan@gmail.com\")"
   ]
  },
  {
   "cell_type": "code",
   "execution_count": 7,
   "id": "60a6ba7e-465a-411c-999b-55caaf714c16",
   "metadata": {},
   "outputs": [
    {
     "data": {
      "text/plain": [
       "'chandan'"
      ]
     },
     "execution_count": 7,
     "metadata": {},
     "output_type": "execute_result"
    }
   ],
   "source": [
    "pw1.name"
   ]
  },
  {
   "cell_type": "code",
   "execution_count": 8,
   "id": "64024e22-8657-4937-a320-3996ca66d142",
   "metadata": {},
   "outputs": [
    {
     "data": {
      "text/plain": [
       "'chandan@gmail.com'"
      ]
     },
     "execution_count": 8,
     "metadata": {},
     "output_type": "execute_result"
    }
   ],
   "source": [
    "pw1.email"
   ]
  },
  {
   "cell_type": "code",
   "execution_count": 9,
   "id": "caa085d5-cdfd-4f76-81dc-fff7c30051e8",
   "metadata": {},
   "outputs": [
    {
     "name": "stdout",
     "output_type": "stream",
     "text": [
      "chandan chandan@gmail.com\n"
     ]
    }
   ],
   "source": [
    "pw1.student_details()"
   ]
  },
  {
   "cell_type": "code",
   "execution_count": 15,
   "id": "748ce9fc-c6c8-4c9b-85dc-ed0d858d2ca7",
   "metadata": {},
   "outputs": [],
   "source": [
    "class pwskills2:\n",
    "    \n",
    "    mobile_num=9958634725\n",
    "    \n",
    "    def __init__(self, name, email):\n",
    "        self.name= name\n",
    "        self.email= email\n",
    "        \n",
    "    @classmethod\n",
    "    def change_number(cls, mobile):\n",
    "        pwskills2.mobile_num=mobile\n",
    "        \n",
    "    @classmethod\n",
    "    def details(cls, name, email):\n",
    "        return cls(name, email)\n",
    "    \n",
    "    def student_details(self):\n",
    "        print(self.name, self.email,pwskills2.mobile_num)"
   ]
  },
  {
   "cell_type": "code",
   "execution_count": 11,
   "id": "1c3d6792-d758-4006-8521-f033103c72fa",
   "metadata": {},
   "outputs": [
    {
     "data": {
      "text/plain": [
       "9958634725"
      ]
     },
     "execution_count": 11,
     "metadata": {},
     "output_type": "execute_result"
    }
   ],
   "source": [
    "pwskills2.mobile_num"
   ]
  },
  {
   "cell_type": "code",
   "execution_count": 13,
   "id": "51b8b1ec-4d7f-446a-bf22-b750869efd5f",
   "metadata": {},
   "outputs": [],
   "source": [
    "pwskills2.change_number(8569345278)"
   ]
  },
  {
   "cell_type": "code",
   "execution_count": 14,
   "id": "a4e0d037-bb9f-4316-b61b-bcab2c8e02f3",
   "metadata": {},
   "outputs": [
    {
     "data": {
      "text/plain": [
       "8569345278"
      ]
     },
     "execution_count": 14,
     "metadata": {},
     "output_type": "execute_result"
    }
   ],
   "source": [
    "pwskills2.mobile_num"
   ]
  },
  {
   "cell_type": "code",
   "execution_count": 16,
   "id": "b6c6302e-3b77-4aeb-bac7-cd39f28d1527",
   "metadata": {},
   "outputs": [],
   "source": [
    "pw_obj=pwskills2(\"chandan\", \"chandan@gmail.com\")"
   ]
  },
  {
   "cell_type": "code",
   "execution_count": 17,
   "id": "fdccd399-8471-42ca-a398-751d71bd0eb4",
   "metadata": {},
   "outputs": [
    {
     "name": "stdout",
     "output_type": "stream",
     "text": [
      "chandan chandan@gmail.com 9958634725\n"
     ]
    }
   ],
   "source": [
    "pw_obj.student_details()"
   ]
  },
  {
   "cell_type": "code",
   "execution_count": 18,
   "id": "dde575bb-d440-4dd8-acfb-590d8857deb6",
   "metadata": {},
   "outputs": [],
   "source": [
    "pw= pwskills2.details(\"rohan\", \"rohan@gmail.com\")"
   ]
  },
  {
   "cell_type": "code",
   "execution_count": 19,
   "id": "2785f3b1-d913-4079-a9b5-1667b9976a8e",
   "metadata": {},
   "outputs": [
    {
     "name": "stdout",
     "output_type": "stream",
     "text": [
      "rohan rohan@gmail.com 9958634725\n"
     ]
    }
   ],
   "source": [
    "pw.student_details()"
   ]
  },
  {
   "cell_type": "code",
   "execution_count": 20,
   "id": "adf6a528-9a07-4c48-95bc-0e2ff0afc839",
   "metadata": {},
   "outputs": [],
   "source": [
    "class pwskills3:\n",
    "    \n",
    "    mobile_num=9958634725\n",
    "    \n",
    "    def __init__(self, name, email):\n",
    "        self.name= name\n",
    "        self.email= email\n",
    "        \n",
    "    @classmethod\n",
    "    def change_number(cls, mobile):\n",
    "        pwskills2.mobile_num=mobile\n",
    "        \n",
    "    @classmethod\n",
    "    def details(cls, name, email):\n",
    "        return cls(name, email)\n",
    "    \n",
    "    def student_details(self):\n",
    "        print(self.name, self.email,pwskills2.mobile_num)"
   ]
  },
  {
   "cell_type": "code",
   "execution_count": 21,
   "id": "971cefe4-3575-4b5f-86a9-c0e5874ff166",
   "metadata": {},
   "outputs": [],
   "source": [
    "def course_details(cls, course_name):\n",
    "    print(\"course name is\", course_name)"
   ]
  },
  {
   "cell_type": "code",
   "execution_count": 22,
   "id": "701858be-f301-4618-b639-618b87b0e5f3",
   "metadata": {},
   "outputs": [],
   "source": [
    "pwskills3.course_details = classmethod(course_details)"
   ]
  },
  {
   "cell_type": "code",
   "execution_count": 24,
   "id": "40386081-05cb-4619-8a1d-9c3225059fdf",
   "metadata": {},
   "outputs": [
    {
     "name": "stdout",
     "output_type": "stream",
     "text": [
      "course name is data science masters\n"
     ]
    }
   ],
   "source": [
    "pwskills3.course_details(\"data science masters\")"
   ]
  },
  {
   "cell_type": "code",
   "execution_count": 26,
   "id": "18529437-aac8-4012-b618-a830dc2caeaa",
   "metadata": {},
   "outputs": [],
   "source": [
    "def mentor(cls, list_of_mentor):\n",
    "    print(list_of_mentor)"
   ]
  },
  {
   "cell_type": "code",
   "execution_count": 27,
   "id": "487ba750-6d6d-4b1d-b9a7-1dc2aa16030b",
   "metadata": {},
   "outputs": [],
   "source": [
    "pwskills3.mentor= classmethod(mentor)"
   ]
  },
  {
   "cell_type": "code",
   "execution_count": 31,
   "id": "cbcb126f-ba7a-4dc0-9cb8-f8ee86ba766f",
   "metadata": {},
   "outputs": [
    {
     "name": "stdout",
     "output_type": "stream",
     "text": [
      "['shidharth', 'Pratik']\n"
     ]
    }
   ],
   "source": [
    "pwskills3.mentor([\"shidharth\", \"Pratik\"])"
   ]
  },
  {
   "cell_type": "code",
   "execution_count": 32,
   "id": "def9ce10-75e9-4190-9cd7-b0bb257b9239",
   "metadata": {},
   "outputs": [],
   "source": [
    "class pwskills4:\n",
    "    \n",
    "    mobile_num=9958634725\n",
    "    \n",
    "    def __init__(self, name, email):\n",
    "        self.name= name\n",
    "        self.email= email\n",
    "        \n",
    "    @classmethod\n",
    "    def change_number(cls, mobile):\n",
    "        pwskills2.mobile_num=mobile\n",
    "        \n",
    "    @classmethod\n",
    "    def details(cls, name, email):\n",
    "        return cls(name, email)\n",
    "    \n",
    "    def student_details(self):\n",
    "        print(self.name, self.email,pwskills2.mobile_num)"
   ]
  },
  {
   "cell_type": "code",
   "execution_count": 33,
   "id": "1ee3bb6b-8892-4dbf-b956-d4300edd7453",
   "metadata": {},
   "outputs": [],
   "source": [
    "del pwskills4.change_number"
   ]
  },
  {
   "cell_type": "code",
   "execution_count": 34,
   "id": "b2d266b1-7c5d-4715-a09b-7ee3ef049615",
   "metadata": {},
   "outputs": [
    {
     "ename": "AttributeError",
     "evalue": "type object 'pwskills4' has no attribute 'change_number'",
     "output_type": "error",
     "traceback": [
      "\u001b[0;31m---------------------------------------------------------------------------\u001b[0m",
      "\u001b[0;31mAttributeError\u001b[0m                            Traceback (most recent call last)",
      "Cell \u001b[0;32mIn[34], line 1\u001b[0m\n\u001b[0;32m----> 1\u001b[0m \u001b[43mpwskills4\u001b[49m\u001b[38;5;241;43m.\u001b[39;49m\u001b[43mchange_number\u001b[49m(\u001b[38;5;241m8945786221\u001b[39m)\n",
      "\u001b[0;31mAttributeError\u001b[0m: type object 'pwskills4' has no attribute 'change_number'"
     ]
    }
   ],
   "source": [
    "pwskills4.change_number(8945786221)"
   ]
  },
  {
   "cell_type": "code",
   "execution_count": 35,
   "id": "67cf9bcc-cba6-4b3e-83ce-d1cc39b1a08f",
   "metadata": {},
   "outputs": [],
   "source": [
    "delattr(pwskills4, \"details\")"
   ]
  },
  {
   "cell_type": "code",
   "execution_count": 36,
   "id": "e5811d2d-5a49-4453-af2a-6d67a3121b12",
   "metadata": {},
   "outputs": [],
   "source": [
    "delattr(pwskills4, \"student_details\")"
   ]
  },
  {
   "cell_type": "code",
   "execution_count": 37,
   "id": "4b724d24-79bd-48a3-986a-d4e53d0d3e4a",
   "metadata": {},
   "outputs": [],
   "source": [
    "delattr(pwskills4, \"mobile_num\")"
   ]
  },
  {
   "cell_type": "code",
   "execution_count": null,
   "id": "45283402-b6fa-4770-92eb-a6ba4f0e52e4",
   "metadata": {},
   "outputs": [],
   "source": [
    "pwskills4."
   ]
  }
 ],
 "metadata": {
  "kernelspec": {
   "display_name": "Python 3 (ipykernel)",
   "language": "python",
   "name": "python3"
  },
  "language_info": {
   "codemirror_mode": {
    "name": "ipython",
    "version": 3
   },
   "file_extension": ".py",
   "mimetype": "text/x-python",
   "name": "python",
   "nbconvert_exporter": "python",
   "pygments_lexer": "ipython3",
   "version": "3.10.8"
  }
 },
 "nbformat": 4,
 "nbformat_minor": 5
}
