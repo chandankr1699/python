{
 "cells": [
  {
   "cell_type": "code",
   "execution_count": 1,
   "id": "1a858d2b-c48c-488e-910e-2dd663d39723",
   "metadata": {},
   "outputs": [],
   "source": [
    "import abc\n",
    "class pwskills:\n",
    "    \n",
    "    @abc.abstractmethod\n",
    "    def students_details(self):\n",
    "        pass\n",
    "    \n",
    "    @abc.abstractmethod\n",
    "    def student_assignment(self):\n",
    "        pass\n",
    "    \n",
    "    @abc.abstractmethod\n",
    "    def student_marks(self):\n",
    "        pass"
   ]
  },
  {
   "cell_type": "code",
   "execution_count": 2,
   "id": "23f2247b-20fc-4fd5-83ee-8808f054542b",
   "metadata": {},
   "outputs": [],
   "source": [
    "class student_details(pwskills):\n",
    "    \n",
    "    def students_details(self):\n",
    "        return \"this is a meth for taking student details\" \n",
    "    \n",
    "    def student_assignment(self):\n",
    "        return \"this is a meth for assing details for a particular student\""
   ]
  },
  {
   "cell_type": "code",
   "execution_count": 3,
   "id": "6382b0df-f4d1-4b8a-bf4c-afc2549e9e2e",
   "metadata": {},
   "outputs": [],
   "source": [
    "class data_science_masters(pwskills):\n",
    "    \n",
    "    def students_details(self):\n",
    "        return \"this will return a student details for data science masters\"\n",
    "    def student_assignment(self):\n",
    "        return \"this will give you a student assignment details for data science masters\" "
   ]
  },
  {
   "cell_type": "code",
   "execution_count": 6,
   "id": "dd68c6f6-4738-4fa5-b8ac-95f8743d47d1",
   "metadata": {},
   "outputs": [
    {
     "data": {
      "text/plain": [
       "'this will return a student details for data science masters'"
      ]
     },
     "execution_count": 6,
     "metadata": {},
     "output_type": "execute_result"
    }
   ],
   "source": [
    "dsm= data_science_masters()\n",
    "dsm.students_details()"
   ]
  },
  {
   "cell_type": "code",
   "execution_count": 7,
   "id": "bfae7297-1de6-4a55-810a-317671de8256",
   "metadata": {},
   "outputs": [
    {
     "data": {
      "text/plain": [
       "'this is a meth for taking student details'"
      ]
     },
     "execution_count": 7,
     "metadata": {},
     "output_type": "execute_result"
    }
   ],
   "source": [
    "std= student_details()\n",
    "std.students_details()"
   ]
  },
  {
   "cell_type": "code",
   "execution_count": null,
   "id": "74c4df96-bb2f-42ff-a222-73c540c03141",
   "metadata": {},
   "outputs": [],
   "source": []
  }
 ],
 "metadata": {
  "kernelspec": {
   "display_name": "Python 3 (ipykernel)",
   "language": "python",
   "name": "python3"
  },
  "language_info": {
   "codemirror_mode": {
    "name": "ipython",
    "version": 3
   },
   "file_extension": ".py",
   "mimetype": "text/x-python",
   "name": "python",
   "nbconvert_exporter": "python",
   "pygments_lexer": "ipython3",
   "version": "3.10.8"
  }
 },
 "nbformat": 4,
 "nbformat_minor": 5
}
