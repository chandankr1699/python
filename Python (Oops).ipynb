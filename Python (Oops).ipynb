{
 "cells": [
  {
   "cell_type": "markdown",
   "id": "5cfcc6bf-4239-4637-af11-9b3f63472e48",
   "metadata": {},
   "source": [
    "\"Oops\"stand for Object- oriented Programming System"
   ]
  },
  {
   "cell_type": "code",
   "execution_count": 1,
   "id": "395ecaa2-5d2b-4982-b581-d62f4ba7e1eb",
   "metadata": {},
   "outputs": [],
   "source": [
    "a=1"
   ]
  },
  {
   "cell_type": "code",
   "execution_count": 2,
   "id": "1e36400c-b69d-4598-815c-84a184492256",
   "metadata": {},
   "outputs": [
    {
     "name": "stdout",
     "output_type": "stream",
     "text": [
      "<class 'int'>\n"
     ]
    }
   ],
   "source": [
    "print(type(a))"
   ]
  },
  {
   "cell_type": "code",
   "execution_count": 3,
   "id": "71d43a22-bac5-411f-822f-b796543d5324",
   "metadata": {},
   "outputs": [
    {
     "name": "stdout",
     "output_type": "stream",
     "text": [
      "<class 'str'>\n"
     ]
    }
   ],
   "source": [
    "print(type(\"Data Science\"))"
   ]
  },
  {
   "cell_type": "code",
   "execution_count": 4,
   "id": "8a4e20a1-2ca0-4644-ac97-2614b40f75e7",
   "metadata": {},
   "outputs": [],
   "source": [
    "class test :\n",
    "    pass"
   ]
  },
  {
   "cell_type": "code",
   "execution_count": 5,
   "id": "88c3c777-ef6c-44d6-96ba-c2c6349d19c5",
   "metadata": {},
   "outputs": [],
   "source": [
    "a=test()"
   ]
  },
  {
   "cell_type": "code",
   "execution_count": 6,
   "id": "4318538a-e8fb-4982-9ced-a95fe5418c92",
   "metadata": {},
   "outputs": [
    {
     "data": {
      "text/plain": [
       "__main__.test"
      ]
     },
     "execution_count": 6,
     "metadata": {},
     "output_type": "execute_result"
    }
   ],
   "source": [
    "type(a)"
   ]
  },
  {
   "cell_type": "code",
   "execution_count": 7,
   "id": "00c17541-d009-449c-91db-82ce4962305b",
   "metadata": {},
   "outputs": [
    {
     "name": "stdout",
     "output_type": "stream",
     "text": [
      "<class '__main__.test'>\n"
     ]
    }
   ],
   "source": [
    "print(type(a))"
   ]
  },
  {
   "cell_type": "code",
   "execution_count": 8,
   "id": "759855ad-c77f-4180-a307-1e11e7c8ec0f",
   "metadata": {},
   "outputs": [],
   "source": [
    "class pwskills:\n",
    "    \n",
    "    def welcome_msg(self):\n",
    "        print(\"welcome to pwskills\")"
   ]
  },
  {
   "cell_type": "code",
   "execution_count": 9,
   "id": "8ca08852-58aa-49d6-80ed-eb0658decbd5",
   "metadata": {},
   "outputs": [],
   "source": [
    "rohan= pwskills()"
   ]
  },
  {
   "cell_type": "code",
   "execution_count": 10,
   "id": "5c7515b9-515f-4b3a-8623-ba4298f58c21",
   "metadata": {},
   "outputs": [
    {
     "name": "stdout",
     "output_type": "stream",
     "text": [
      "<class '__main__.pwskills'>\n"
     ]
    }
   ],
   "source": [
    "print(type(rohan))"
   ]
  },
  {
   "cell_type": "code",
   "execution_count": 11,
   "id": "d445f2d8-6123-4df9-a301-66fdd1bf5f19",
   "metadata": {},
   "outputs": [
    {
     "name": "stdout",
     "output_type": "stream",
     "text": [
      "welcome to pwskills\n"
     ]
    }
   ],
   "source": [
    "rohan.welcome_msg()"
   ]
  },
  {
   "cell_type": "code",
   "execution_count": 12,
   "id": "94a33402-8a51-4959-8502-871b683763e8",
   "metadata": {},
   "outputs": [],
   "source": [
    "gaurav= pwskills()"
   ]
  },
  {
   "cell_type": "code",
   "execution_count": 13,
   "id": "e3a3891d-9536-430d-9d76-e67656c86294",
   "metadata": {},
   "outputs": [
    {
     "name": "stdout",
     "output_type": "stream",
     "text": [
      "welcome to pwskills\n"
     ]
    }
   ],
   "source": [
    "gaurav.welcome_msg()"
   ]
  },
  {
   "cell_type": "code",
   "execution_count": 14,
   "id": "df8db6fc-7840-4f5b-a6b9-136634c3e7a3",
   "metadata": {},
   "outputs": [],
   "source": [
    "class pwskills1:\n",
    "    \n",
    "    def __init__(self, phone_number, email_id, student_id):\n",
    "        self.phone_number= phone_number\n",
    "        self.email_id = email_id\n",
    "        self.student_id = student_id\n",
    "        \n",
    "    def return_student_details(self):\n",
    "        return self.student_id, self.phone_number, self.email_id\n",
    "        "
   ]
  },
  {
   "cell_type": "code",
   "execution_count": 15,
   "id": "0b671643-5cb5-47ac-ae50-0e195f46fa0e",
   "metadata": {},
   "outputs": [],
   "source": [
    "rohan= pwskills1(14783659, \"rohan@gmail.com\", 101)"
   ]
  },
  {
   "cell_type": "code",
   "execution_count": 16,
   "id": "738018f4-67e0-4a04-ad40-9b4e721e5858",
   "metadata": {},
   "outputs": [
    {
     "data": {
      "text/plain": [
       "14783659"
      ]
     },
     "execution_count": 16,
     "metadata": {},
     "output_type": "execute_result"
    }
   ],
   "source": [
    "rohan.phone_number"
   ]
  },
  {
   "cell_type": "code",
   "execution_count": 17,
   "id": "9ffe1b3a-04d5-4a02-9e42-ce46901c4e60",
   "metadata": {},
   "outputs": [
    {
     "data": {
      "text/plain": [
       "'rohan@gmail.com'"
      ]
     },
     "execution_count": 17,
     "metadata": {},
     "output_type": "execute_result"
    }
   ],
   "source": [
    "rohan.email_id"
   ]
  },
  {
   "cell_type": "code",
   "execution_count": 18,
   "id": "e9065402-6134-499b-81f6-3b1f11aa82e7",
   "metadata": {},
   "outputs": [
    {
     "data": {
      "text/plain": [
       "(101, 14783659, 'rohan@gmail.com')"
      ]
     },
     "execution_count": 18,
     "metadata": {},
     "output_type": "execute_result"
    }
   ],
   "source": [
    "rohan.return_student_details()"
   ]
  },
  {
   "cell_type": "code",
   "execution_count": 19,
   "id": "fd1f8f5f-022f-437d-9310-99d17611bc31",
   "metadata": {},
   "outputs": [],
   "source": [
    "gaurav= pwskills1(8578986869, \"gaurav@gmail.com\", 102)"
   ]
  },
  {
   "cell_type": "code",
   "execution_count": 20,
   "id": "5a6100c8-99b0-40b7-bb5c-312cb91d627a",
   "metadata": {},
   "outputs": [
    {
     "data": {
      "text/plain": [
       "(102, 8578986869, 'gaurav@gmail.com')"
      ]
     },
     "execution_count": 20,
     "metadata": {},
     "output_type": "execute_result"
    }
   ],
   "source": [
    "gaurav.return_student_details()"
   ]
  },
  {
   "cell_type": "code",
   "execution_count": 21,
   "id": "db6bc6e8-ed61-4352-a300-b91e05e1737a",
   "metadata": {},
   "outputs": [],
   "source": [
    "class pwskills2:\n",
    "    \n",
    "    def __init__(self, phone_number, email_id, student_id):\n",
    "        self.phone_number1= phone_number\n",
    "        self.email_id1 = email_id\n",
    "        self.student_id1 = student_id\n",
    "        \n",
    "    def return_student_details(self):\n",
    "        return self.student_id1, self.phone_number1, self.email_id1"
   ]
  },
  {
   "cell_type": "code",
   "execution_count": 22,
   "id": "c0594f98-391f-4c93-b5c8-a75f34669d7a",
   "metadata": {},
   "outputs": [],
   "source": [
    "chand= pwskills2(8965782377, \"chand@gmail.com\", 103) "
   ]
  },
  {
   "cell_type": "code",
   "execution_count": 23,
   "id": "48103f01-f652-484a-9271-3e4395be7e69",
   "metadata": {},
   "outputs": [
    {
     "data": {
      "text/plain": [
       "<__main__.pwskills2 at 0x7f91e83c63e0>"
      ]
     },
     "execution_count": 23,
     "metadata": {},
     "output_type": "execute_result"
    }
   ],
   "source": [
    "chand"
   ]
  },
  {
   "cell_type": "code",
   "execution_count": 24,
   "id": "54619655-011e-476e-b68f-80c9d02eecab",
   "metadata": {},
   "outputs": [
    {
     "data": {
      "text/plain": [
       "8965782377"
      ]
     },
     "execution_count": 24,
     "metadata": {},
     "output_type": "execute_result"
    }
   ],
   "source": [
    "chand.phone_number1"
   ]
  },
  {
   "cell_type": "code",
   "execution_count": 25,
   "id": "baf3a6b4-c153-473a-bc9a-819bccf163fe",
   "metadata": {},
   "outputs": [
    {
     "data": {
      "text/plain": [
       "'chand@gmail.com'"
      ]
     },
     "execution_count": 25,
     "metadata": {},
     "output_type": "execute_result"
    }
   ],
   "source": [
    "chand.email_id1"
   ]
  },
  {
   "cell_type": "code",
   "execution_count": 26,
   "id": "f000e486-aa5e-4ac0-8700-01cc407f9f89",
   "metadata": {},
   "outputs": [
    {
     "data": {
      "text/plain": [
       "(103, 8965782377, 'chand@gmail.com')"
      ]
     },
     "execution_count": 26,
     "metadata": {},
     "output_type": "execute_result"
    }
   ],
   "source": [
    "chand.return_student_details()"
   ]
  },
  {
   "cell_type": "code",
   "execution_count": 27,
   "id": "20d8104b-d929-42c1-8099-d3731d98bd64",
   "metadata": {},
   "outputs": [],
   "source": [
    "class pwskills2:\n",
    "    \n",
    "    def __init__(chand, phone_number, email_id, student_id):\n",
    "        chand.phone_number1= phone_number\n",
    "        chand.email_id1 = email_id\n",
    "        chand.student_id1 = student_id\n",
    "        \n",
    "    def return_student_details(chand):\n",
    "        return chand.student_id1, chand.phone_number1, chand.email_id1"
   ]
  },
  {
   "cell_type": "code",
   "execution_count": 28,
   "id": "adb2bf19-2648-45bb-b50a-ad7c427cb265",
   "metadata": {},
   "outputs": [],
   "source": [
    "rohan=pwskills2(45842556581, \"rohan@gmail.com\", 105)"
   ]
  },
  {
   "cell_type": "code",
   "execution_count": 29,
   "id": "60cfdc2b-8ed9-4a5d-b0fc-3c23646d10cf",
   "metadata": {},
   "outputs": [
    {
     "data": {
      "text/plain": [
       "45842556581"
      ]
     },
     "execution_count": 29,
     "metadata": {},
     "output_type": "execute_result"
    }
   ],
   "source": [
    "rohan.phone_number1"
   ]
  },
  {
   "cell_type": "code",
   "execution_count": 30,
   "id": "8d8f2c10-8361-4485-bab2-f940b7608faf",
   "metadata": {},
   "outputs": [
    {
     "data": {
      "text/plain": [
       "'rohan@gmail.com'"
      ]
     },
     "execution_count": 30,
     "metadata": {},
     "output_type": "execute_result"
    }
   ],
   "source": [
    "rohan.email_id1"
   ]
  },
  {
   "cell_type": "code",
   "execution_count": null,
   "id": "50141827-5753-4a88-b5a8-05d5ac73ea8a",
   "metadata": {},
   "outputs": [],
   "source": []
  }
 ],
 "metadata": {
  "kernelspec": {
   "display_name": "Python 3 (ipykernel)",
   "language": "python",
   "name": "python3"
  },
  "language_info": {
   "codemirror_mode": {
    "name": "ipython",
    "version": 3
   },
   "file_extension": ".py",
   "mimetype": "text/x-python",
   "name": "python",
   "nbconvert_exporter": "python",
   "pygments_lexer": "ipython3",
   "version": "3.10.8"
  }
 },
 "nbformat": 4,
 "nbformat_minor": 5
}
