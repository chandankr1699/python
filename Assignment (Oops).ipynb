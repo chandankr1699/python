{
 "cells": [
  {
   "cell_type": "raw",
   "id": "57463b8f-5833-4de2-aadc-efbbac066a20",
   "metadata": {},
   "source": [
    "Q1. Explain class and object with respect to object-oriented programming. Give a suitable example.\n",
    "\n",
    "Ans. In object-oriented programming, a class is a blueprint for creating objects (instances of a class). It defines the data and behaviors (methods) that the objects of the class will have.\n",
    "\n",
    "1. For example consider a class Triangle, which could have attributes sides a,b,c and methods like perimeter, area.\n",
    "\n",
    "2. Each Triangle created will have different sides with unique values of a,b,c. These unique triangles are objects of class.\n",
    "\n",
    "3. An Object is an instance of class and represents a single entity with its own unique data and behaviours."
   ]
  },
  {
   "cell_type": "code",
   "execution_count": 1,
   "id": "d0600547-cb44-4925-a091-de0492744b46",
   "metadata": {},
   "outputs": [],
   "source": [
    "class Triangle:\n",
    "    \"\"\"\n",
    "    Defining Class Triangle Counstructor method 3 sides\n",
    "    \"\"\"\n",
    "    def __init__(self, a,b,c):\n",
    "        self.a= a\n",
    "        self.b= b\n",
    "        self.c= c\n",
    "    def isTriangle(self):\n",
    "        \"\"\"\n",
    "        for triangle to form sum of any two sides\n",
    "        should be greater than third this function checks this\n",
    "        \"\"\"\n",
    "        if (self.a + self.b)>self.c and (self.b + self.c)>self.a and (self.a + self.c)>self.b:\n",
    "            x= True\n",
    "        else:\n",
    "            x= False\n",
    "        return x\n",
    "    \n",
    "    def perimeter(self):\n",
    "        \"\"\"\n",
    "        This function returns perimeter of triangle\n",
    "        P = a+b+c\n",
    "        only if sides a,b,c form a triangle\n",
    "        \"\"\"\n",
    "        if self.isTriangle()== True:\n",
    "            p = self.a + self.b + self.c\n",
    "        else:\n",
    "            p=None\n",
    "            print(f\"The sides {self.a}, {self.b}, {self.c} do not form a triangle\")\n",
    "        return p\n",
    "        \n",
    "    def area(self): \n",
    "        \"\"\"\n",
    "        this function returns area of triangle based on Herons formula\n",
    "        only if sides a,b,c form triangle\n",
    "        \"\"\"\n",
    "        if self.isTriangle()==True:\n",
    "            s= (self.a + self.b +self.c)/2\n",
    "            ar= (s*(s-self.a)*(s-self.b)*(s-self.c))**0.5\n",
    "        else:\n",
    "            ar=None\n",
    "            print(f\"The sides {self.a}, {self.b}, {self.c} do not form a triangle\")\n",
    "        return ar    "
   ]
  },
  {
   "cell_type": "code",
   "execution_count": 2,
   "id": "75934756-6df6-4255-bcc4-4a4a1e215fcb",
   "metadata": {},
   "outputs": [],
   "source": [
    "t1= Triangle(3,4,5)"
   ]
  },
  {
   "cell_type": "code",
   "execution_count": 3,
   "id": "72b8d4e2-c669-41d5-9acb-d0cabe4edb78",
   "metadata": {},
   "outputs": [
    {
     "name": "stdout",
     "output_type": "stream",
     "text": [
      "<class '__main__.Triangle'>\n"
     ]
    }
   ],
   "source": [
    "print(type(t1))"
   ]
  },
  {
   "cell_type": "code",
   "execution_count": 4,
   "id": "e3431979-636c-4d42-846e-0f552fdaa348",
   "metadata": {},
   "outputs": [
    {
     "name": "stdout",
     "output_type": "stream",
     "text": [
      "Sides of object t1 of class Triangle is 3, 4, 5\n"
     ]
    }
   ],
   "source": [
    "print(f\"Sides of object t1 of class Triangle is {t1.a}, {t1.b}, {t1.c}\") "
   ]
  },
  {
   "cell_type": "code",
   "execution_count": 5,
   "id": "bb0e6423-b473-4cc9-8623-0cf049e1b9a6",
   "metadata": {},
   "outputs": [
    {
     "data": {
      "text/plain": [
       "True"
      ]
     },
     "execution_count": 5,
     "metadata": {},
     "output_type": "execute_result"
    }
   ],
   "source": [
    "t1.isTriangle()"
   ]
  },
  {
   "cell_type": "code",
   "execution_count": 6,
   "id": "2e6c7955-a308-4762-885b-0633d55783d9",
   "metadata": {},
   "outputs": [
    {
     "data": {
      "text/plain": [
       "12"
      ]
     },
     "execution_count": 6,
     "metadata": {},
     "output_type": "execute_result"
    }
   ],
   "source": [
    "t1.perimeter()"
   ]
  },
  {
   "cell_type": "code",
   "execution_count": 7,
   "id": "b715d4c1-803a-4be8-baac-2621bdc807e9",
   "metadata": {},
   "outputs": [
    {
     "data": {
      "text/plain": [
       "6.0"
      ]
     },
     "execution_count": 7,
     "metadata": {},
     "output_type": "execute_result"
    }
   ],
   "source": [
    "t1.area()"
   ]
  },
  {
   "cell_type": "code",
   "execution_count": 8,
   "id": "d4ca11bb-cd95-4312-97e4-686115c8e399",
   "metadata": {},
   "outputs": [
    {
     "name": "stdout",
     "output_type": "stream",
     "text": [
      "False\n"
     ]
    }
   ],
   "source": [
    "t2= Triangle(1,2,3)\n",
    "print(t2.isTriangle())"
   ]
  },
  {
   "cell_type": "code",
   "execution_count": 9,
   "id": "f7ddad7f-137a-4efc-b76e-60d5305268bf",
   "metadata": {},
   "outputs": [
    {
     "name": "stdout",
     "output_type": "stream",
     "text": [
      "The sides 1, 2, 3 do not form a triangle\n"
     ]
    }
   ],
   "source": [
    "t2.perimeter()"
   ]
  },
  {
   "cell_type": "code",
   "execution_count": 10,
   "id": "d7d8f6b4-e679-43ff-b1c7-df34456d7ee8",
   "metadata": {},
   "outputs": [],
   "source": [
    "class car:\n",
    "    \"\"\"\n",
    "    Defining a class car with initialized \n",
    "    Manufactured, weight and colour attributes\n",
    "    \"\"\"\n",
    "    \n",
    "    def __init__(self, manufacturer, weight, color):\n",
    "        self.manufacturer= manufacturer\n",
    "        self.weight= weight\n",
    "        self.color= color"
   ]
  },
  {
   "cell_type": "code",
   "execution_count": 11,
   "id": "822b366b-8b50-42fa-87d1-69e8d714ee8f",
   "metadata": {},
   "outputs": [
    {
     "name": "stdout",
     "output_type": "stream",
     "text": [
      "kia\n",
      "1700\n",
      "black\n"
     ]
    }
   ],
   "source": [
    "seltos=car(\"kia\",1700,\"black\")\n",
    "print(seltos.manufacturer)\n",
    "print(seltos.weight)\n",
    "print(seltos.color)"
   ]
  },
  {
   "cell_type": "raw",
   "id": "19867adf-a618-4919-a908-275933db40b3",
   "metadata": {},
   "source": [
    "Q. Write a python program for encrypting a message sent to you by your friend. The logic of encryption should be such that, for 'a' the output should be 'z'. For 'b', the output should be 'y'. For 'c', the output should be 'x' respectively. Also, the whitespace should be replaced with a dollar sign. Keep the punctuation marks unchanged. "
   ]
  },
  {
   "cell_type": "code",
   "execution_count": 12,
   "id": "85fa8581-da44-4894-adf2-6af42fdbde7c",
   "metadata": {},
   "outputs": [],
   "source": [
    "import string\n",
    "def encryted_message(strg):\n",
    "    \"\"\"\n",
    "    This function returns encrypted string as mentioned in the question\n",
    "    \"\"\"\n",
    "    # Step 1: Creating dictionary {'a':'z', 'b':'y',....'z':'a'}\n",
    "    ascii_alph = string.ascii_lowercase\n",
    "    encrypted_dict = dict(zip(ascii_alph, ascii_alph[::-1]))\n",
    "    \n",
    "    # Step 2: Add space key as $ in dictionary\n",
    "    encrypted_dict[' ']='$'\n",
    "    \n",
    "    # Step 3: Add punctuation marks as it is\n",
    "    for i in string.punctuation:\n",
    "        encrypted_dict[i]=i\n",
    "        \n",
    "    # Step 4: Adding Numbers and keeping them same:\n",
    "    for num in range(0,10):\n",
    "        encrypted_dict[str(num)]= str(num)\n",
    "        \n",
    "    # Dictionary creation is completed\n",
    "    \n",
    "    # Step 5: Initalize blank string encrypt_out\n",
    "    encrypt_out = ' '\n",
    "    \n",
    "    # Step 6: Apply for loop to input and use encrypted_dict \n",
    "    # Use lowercase for case unification\n",
    "    for char in strg.lower():\n",
    "        encrypt_out= encrypt_out + encrypted_dict[char]\n",
    "        \n",
    "    return encrypt_out"
   ]
  },
  {
   "cell_type": "code",
   "execution_count": 13,
   "id": "f32952f3-18f8-4252-ba15-681ed0b930ae",
   "metadata": {},
   "outputs": [
    {
     "data": {
      "text/plain": [
       "' svool$gsviv$r$zn$xszmwzm$pfnzi$zmw$nb$ztv$rh$25,$gsrh$rh$z$gvhg$!!?@'"
      ]
     },
     "execution_count": 13,
     "metadata": {},
     "output_type": "execute_result"
    }
   ],
   "source": [
    "test = 'Hello there I am Chandan Kumar and my age is 25, this is a test !!?@'\n",
    "encryted_message(test)"
   ]
  },
  {
   "cell_type": "code",
   "execution_count": 14,
   "id": "14690a42-b185-4a81-b9c0-228cd61aed93",
   "metadata": {},
   "outputs": [
    {
     "data": {
      "text/plain": [
       "' r$dzmg$gl$yvxlnv$z$wzgz$hxrvmgrhg.'"
      ]
     },
     "execution_count": 14,
     "metadata": {},
     "output_type": "execute_result"
    }
   ],
   "source": [
    "inp = \"I want to become a Data Scientist.\"\n",
    "encryted_message(inp)"
   ]
  },
  {
   "cell_type": "raw",
   "id": "6e5629c6-1a2e-4379-956e-bf085d96d8a3",
   "metadata": {},
   "source": [
    "Q. You are writing code for a company. The requirement of the company is that you create a python function that will check wether password entered by user is correct or not. The fuction should take password as input and return the string \"Valid Password\" if password follows below given password guidelines else it should retun \"Invalid Password\" "
   ]
  },
  {
   "cell_type": "code",
   "execution_count": 15,
   "id": "01bff6db-0edc-4b71-bc5a-35194a7a1a29",
   "metadata": {},
   "outputs": [],
   "source": [
    "def count_characters(password):\n",
    "    upper_count= 0\n",
    "    lower_count= 0\n",
    "    number_count= 0\n",
    "    symbol_count= 0\n",
    "    \n",
    "    for char in password:\n",
    "        if char.isalpha()==True:\n",
    "            if char.isupper()==True:\n",
    "                upper_count= upper_count + 1\n",
    "            else:\n",
    "                lower_count = lower_count + 1\n",
    "        elif char.isnumeric()==True:\n",
    "            number_count = number_count + 1\n",
    "        else:\n",
    "            symbol_count = symbol_count + 1\n",
    "            \n",
    "    return upper_count, lower_count, number_count, symbol_count"
   ]
  },
  {
   "cell_type": "code",
   "execution_count": 16,
   "id": "d219d337-dd8a-47c4-b35d-4eca73a065ef",
   "metadata": {},
   "outputs": [
    {
     "data": {
      "text/plain": [
       "(1, 6, 10, 0)"
      ]
     },
     "execution_count": 16,
     "metadata": {},
     "output_type": "execute_result"
    }
   ],
   "source": [
    "count_characters(\"Chandan12345,(#)_12345\")"
   ]
  },
  {
   "cell_type": "code",
   "execution_count": 21,
   "id": "34de565d-4411-4d48-a967-e28044f6a61b",
   "metadata": {},
   "outputs": [],
   "source": [
    "def validate_password(password):\n",
    "    upper_count, lower_count, number_count, symbol_count= count_charcters(password)\n",
    "    \n",
    "    isValid= (upper_count>=2) and (lower_count>=2) and (number_count>=1) and (symbol_count>=3) and (len(password)==10)\n",
    "    \n",
    "    if isValid==True:\n",
    "        return \"Valid password\"\n",
    "    else:\n",
    "        return \"Invalid password\""
   ]
  },
  {
   "cell_type": "code",
   "execution_count": 22,
   "id": "0ae2af03-a4b5-4601-a972-658fdb42f1a2",
   "metadata": {},
   "outputs": [
    {
     "ename": "NameError",
     "evalue": "name 'count_charcters' is not defined",
     "output_type": "error",
     "traceback": [
      "\u001b[0;31m---------------------------------------------------------------------------\u001b[0m",
      "\u001b[0;31mNameError\u001b[0m                                 Traceback (most recent call last)",
      "Cell \u001b[0;32mIn[22], line 2\u001b[0m\n\u001b[1;32m      1\u001b[0m p1 \u001b[38;5;241m=\u001b[39m \u001b[38;5;124m'\u001b[39m\u001b[38;5;124mP$w@Skill!1\u001b[39m\u001b[38;5;124m'\u001b[39m\n\u001b[0;32m----> 2\u001b[0m \u001b[43mvalidate_password\u001b[49m\u001b[43m(\u001b[49m\u001b[43mp1\u001b[49m\u001b[43m)\u001b[49m\n",
      "Cell \u001b[0;32mIn[21], line 2\u001b[0m, in \u001b[0;36mvalidate_password\u001b[0;34m(password)\u001b[0m\n\u001b[1;32m      1\u001b[0m \u001b[38;5;28;01mdef\u001b[39;00m \u001b[38;5;21mvalidate_password\u001b[39m(password):\n\u001b[0;32m----> 2\u001b[0m     upper_count, lower_count, number_count, symbol_count\u001b[38;5;241m=\u001b[39m \u001b[43mcount_charcters\u001b[49m(password)\n\u001b[1;32m      4\u001b[0m     isValid\u001b[38;5;241m=\u001b[39m (upper_count\u001b[38;5;241m>\u001b[39m\u001b[38;5;241m=\u001b[39m\u001b[38;5;241m2\u001b[39m) \u001b[38;5;129;01mand\u001b[39;00m (lower_count\u001b[38;5;241m>\u001b[39m\u001b[38;5;241m=\u001b[39m\u001b[38;5;241m2\u001b[39m) \u001b[38;5;129;01mand\u001b[39;00m (number_count\u001b[38;5;241m>\u001b[39m\u001b[38;5;241m=\u001b[39m\u001b[38;5;241m1\u001b[39m) \u001b[38;5;129;01mand\u001b[39;00m (symbol_count\u001b[38;5;241m>\u001b[39m\u001b[38;5;241m=\u001b[39m\u001b[38;5;241m3\u001b[39m) \u001b[38;5;129;01mand\u001b[39;00m (\u001b[38;5;28mlen\u001b[39m(password)\u001b[38;5;241m==\u001b[39m\u001b[38;5;241m10\u001b[39m)\n\u001b[1;32m      6\u001b[0m     \u001b[38;5;28;01mif\u001b[39;00m isValid\u001b[38;5;241m==\u001b[39m\u001b[38;5;28;01mTrue\u001b[39;00m:\n",
      "\u001b[0;31mNameError\u001b[0m: name 'count_charcters' is not defined"
     ]
    }
   ],
   "source": [
    "p1 = 'P$w@Skill!1'\n",
    "validate_password(p1)"
   ]
  },
  {
   "cell_type": "code",
   "execution_count": 23,
   "id": "f99bac9f-4dec-4cb1-812b-6d5f0aad92a5",
   "metadata": {},
   "outputs": [
    {
     "ename": "SyntaxError",
     "evalue": "unterminated string literal (detected at line 1) (562190139.py, line 1)",
     "output_type": "error",
     "traceback": [
      "\u001b[0;36m  Cell \u001b[0;32mIn[23], line 1\u001b[0;36m\u001b[0m\n\u001b[0;31m    p2 = 'Chandan12345600#\"\u001b[0m\n\u001b[0m         ^\u001b[0m\n\u001b[0;31mSyntaxError\u001b[0m\u001b[0;31m:\u001b[0m unterminated string literal (detected at line 1)\n"
     ]
    }
   ],
   "source": [
    "p2 = 'Chandan12345600#\"\n",
    "validate_password(p2)"
   ]
  },
  {
   "cell_type": "code",
   "execution_count": null,
   "id": "a7824517-3e65-48bf-b2d6-da4b6fd1956b",
   "metadata": {},
   "outputs": [],
   "source": []
  }
 ],
 "metadata": {
  "kernelspec": {
   "display_name": "Python 3 (ipykernel)",
   "language": "python",
   "name": "python3"
  },
  "language_info": {
   "codemirror_mode": {
    "name": "ipython",
    "version": 3
   },
   "file_extension": ".py",
   "mimetype": "text/x-python",
   "name": "python",
   "nbconvert_exporter": "python",
   "pygments_lexer": "ipython3",
   "version": "3.10.8"
  }
 },
 "nbformat": 4,
 "nbformat_minor": 5
}
