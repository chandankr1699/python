{
 "cells": [
  {
   "cell_type": "code",
   "execution_count": 1,
   "id": "a70736be-6571-4dae-924d-1ba0748b2da9",
   "metadata": {},
   "outputs": [],
   "source": [
    "x=3\n",
    "y=2"
   ]
  },
  {
   "cell_type": "code",
   "execution_count": 2,
   "id": "b1df7b8d-ee57-445e-bdd8-15537c97a163",
   "metadata": {},
   "outputs": [],
   "source": [
    "def test(x,y):\n",
    "    return x**y"
   ]
  },
  {
   "cell_type": "code",
   "execution_count": 3,
   "id": "411bb868-3c20-475a-9b9b-af9cceaec97d",
   "metadata": {},
   "outputs": [
    {
     "data": {
      "text/plain": [
       "9"
      ]
     },
     "execution_count": 3,
     "metadata": {},
     "output_type": "execute_result"
    }
   ],
   "source": [
    "test(3,2)"
   ]
  },
  {
   "cell_type": "code",
   "execution_count": 4,
   "id": "a58e422d-79fe-4d85-8f5c-3ced1454eb2e",
   "metadata": {},
   "outputs": [],
   "source": [
    "a = lambda x,y : x**y"
   ]
  },
  {
   "cell_type": "code",
   "execution_count": 5,
   "id": "cc27f25d-8b43-464f-baaf-2c7a4542f7a7",
   "metadata": {},
   "outputs": [
    {
     "data": {
      "text/plain": [
       "9"
      ]
     },
     "execution_count": 5,
     "metadata": {},
     "output_type": "execute_result"
    }
   ],
   "source": [
    "a(3,2)"
   ]
  },
  {
   "cell_type": "code",
   "execution_count": 6,
   "id": "67766e33-1067-4655-bc9a-19bcb4cfc272",
   "metadata": {},
   "outputs": [],
   "source": [
    "add= lambda x,y : x+y"
   ]
  },
  {
   "cell_type": "code",
   "execution_count": 7,
   "id": "101403a9-bad9-4ab1-8dbc-02893756816e",
   "metadata": {},
   "outputs": [
    {
     "data": {
      "text/plain": [
       "9"
      ]
     },
     "execution_count": 7,
     "metadata": {},
     "output_type": "execute_result"
    }
   ],
   "source": [
    "add(4,5)"
   ]
  },
  {
   "cell_type": "code",
   "execution_count": 8,
   "id": "0fa22870-ae77-46c5-a92a-28182629931d",
   "metadata": {},
   "outputs": [],
   "source": [
    "c_to_f = lambda c : (9/5)*c + 32"
   ]
  },
  {
   "cell_type": "code",
   "execution_count": 9,
   "id": "7cfc8a90-384e-4e13-8e28-c3dd9731ee08",
   "metadata": {},
   "outputs": [
    {
     "data": {
      "text/plain": [
       "98.60000000000001"
      ]
     },
     "execution_count": 9,
     "metadata": {},
     "output_type": "execute_result"
    }
   ],
   "source": [
    "c_to_f(37)"
   ]
  },
  {
   "cell_type": "code",
   "execution_count": 10,
   "id": "25a63e71-3a92-4d9f-b85f-fa4fc4dc1517",
   "metadata": {},
   "outputs": [],
   "source": [
    "finding_max= lambda x,y : x if x>y else y"
   ]
  },
  {
   "cell_type": "code",
   "execution_count": 11,
   "id": "2399b609-8637-47a4-9ac1-8a37b1b2c2e1",
   "metadata": {},
   "outputs": [
    {
     "data": {
      "text/plain": [
       "85"
      ]
     },
     "execution_count": 11,
     "metadata": {},
     "output_type": "execute_result"
    }
   ],
   "source": [
    "finding_max(55,85)"
   ]
  },
  {
   "cell_type": "code",
   "execution_count": 12,
   "id": "19381499-3ee9-4242-8f95-99f48f1e5504",
   "metadata": {},
   "outputs": [],
   "source": [
    "c= \"chandan\""
   ]
  },
  {
   "cell_type": "code",
   "execution_count": 13,
   "id": "20bea45f-7a65-4070-bda4-5ff11285077e",
   "metadata": {},
   "outputs": [],
   "source": [
    "find_len= lambda c : len(c)"
   ]
  },
  {
   "cell_type": "code",
   "execution_count": 14,
   "id": "1605f848-05da-4a8a-a568-3c033f512cb2",
   "metadata": {},
   "outputs": [
    {
     "data": {
      "text/plain": [
       "7"
      ]
     },
     "execution_count": 14,
     "metadata": {},
     "output_type": "execute_result"
    }
   ],
   "source": [
    "find_len(c)"
   ]
  },
  {
   "cell_type": "code",
   "execution_count": null,
   "id": "84b7b6ef-a1f3-4861-9b4c-8403ae2f727d",
   "metadata": {},
   "outputs": [],
   "source": []
  }
 ],
 "metadata": {
  "kernelspec": {
   "display_name": "Python 3 (ipykernel)",
   "language": "python",
   "name": "python3"
  },
  "language_info": {
   "codemirror_mode": {
    "name": "ipython",
    "version": 3
   },
   "file_extension": ".py",
   "mimetype": "text/x-python",
   "name": "python",
   "nbconvert_exporter": "python",
   "pygments_lexer": "ipython3",
   "version": "3.10.8"
  }
 },
 "nbformat": 4,
 "nbformat_minor": 5
}
