{
 "cells": [
  {
   "cell_type": "code",
   "execution_count": 1,
   "id": "d23c440c-e901-47c9-9f68-95f380d1c8d5",
   "metadata": {},
   "outputs": [],
   "source": [
    "class test:\n",
    "    \n",
    "    \n",
    "    def __init__(self, a, b):\n",
    "        self.a=a\n",
    "        self.b=b"
   ]
  },
  {
   "cell_type": "code",
   "execution_count": 2,
   "id": "2614a2ff-5682-4af9-a463-00144a33dbcc",
   "metadata": {},
   "outputs": [],
   "source": [
    "t=test(23,24)"
   ]
  },
  {
   "cell_type": "code",
   "execution_count": 5,
   "id": "d5a4ce22-447f-4f20-b7d7-d33e26ea109f",
   "metadata": {},
   "outputs": [],
   "source": [
    "t.a= 145268"
   ]
  },
  {
   "cell_type": "code",
   "execution_count": 6,
   "id": "95e4fc9d-81b8-43a1-90c4-544e185c7e43",
   "metadata": {},
   "outputs": [
    {
     "data": {
      "text/plain": [
       "145268"
      ]
     },
     "execution_count": 6,
     "metadata": {},
     "output_type": "execute_result"
    }
   ],
   "source": [
    "t.a"
   ]
  },
  {
   "cell_type": "code",
   "execution_count": 11,
   "id": "f5f41a76-ec47-4f29-8a0c-a803c47f6226",
   "metadata": {},
   "outputs": [],
   "source": [
    "class car:\n",
    "    def __init__(self, year, make, model, speed):\n",
    "        \n",
    "        self.__year = year\n",
    "        self.__make = make\n",
    "        self.__model = model\n",
    "        self.__speed = 0\n",
    "        \n",
    "    def set_speed(self, speed):\n",
    "        self.__speed = 0 if speed < 0 else speed\n",
    "        \n",
    "    def get_speed(self):\n",
    "        return self.__speed"
   ]
  },
  {
   "cell_type": "code",
   "execution_count": 12,
   "id": "bea17cee-dafb-48fc-bdfe-e680bb97b425",
   "metadata": {},
   "outputs": [],
   "source": [
    "c = car(2024, \"Mercedes\", \"Benz\", 30)"
   ]
  },
  {
   "cell_type": "code",
   "execution_count": 10,
   "id": "1bfda4f5-c077-4cee-b901-3876bd45d239",
   "metadata": {},
   "outputs": [
    {
     "data": {
      "text/plain": [
       "2024"
      ]
     },
     "execution_count": 10,
     "metadata": {},
     "output_type": "execute_result"
    }
   ],
   "source": [
    "c._car__year"
   ]
  },
  {
   "cell_type": "code",
   "execution_count": 13,
   "id": "88edd0cd-c9a5-4fba-aa54-9cc6bcda7149",
   "metadata": {},
   "outputs": [],
   "source": [
    "c.set_speed(-450)"
   ]
  },
  {
   "cell_type": "code",
   "execution_count": 14,
   "id": "b4aa196c-a0e5-463d-9e94-037968f287de",
   "metadata": {},
   "outputs": [
    {
     "data": {
      "text/plain": [
       "0"
      ]
     },
     "execution_count": 14,
     "metadata": {},
     "output_type": "execute_result"
    }
   ],
   "source": [
    "c.get_speed()"
   ]
  },
  {
   "cell_type": "code",
   "execution_count": 15,
   "id": "7ef23801-d72d-46b6-a4ec-ffbc71839d13",
   "metadata": {},
   "outputs": [],
   "source": [
    "c.set_speed(500)"
   ]
  },
  {
   "cell_type": "code",
   "execution_count": 16,
   "id": "d39409c0-6b4c-434a-9c8f-1f4cb8fce128",
   "metadata": {},
   "outputs": [
    {
     "data": {
      "text/plain": [
       "500"
      ]
     },
     "execution_count": 16,
     "metadata": {},
     "output_type": "execute_result"
    }
   ],
   "source": [
    "c.get_speed()"
   ]
  },
  {
   "cell_type": "code",
   "execution_count": 23,
   "id": "c23377fa-2489-44bb-8075-72b1fd77e3c3",
   "metadata": {},
   "outputs": [],
   "source": [
    "class bank_account:\n",
    "    def __init__(self, balance):\n",
    "        self.__balance = balance\n",
    "            \n",
    "    def deposit(self, amount):\n",
    "        self.__balance = self.__balance + amount\n",
    "        \n",
    "    def withdraw(self, amount):\n",
    "        if self.__balance >= amount :\n",
    "            self.__balance = self.__balance - amount\n",
    "            return True\n",
    "        else :\n",
    "            return False\n",
    "        \n",
    "    def get_balance(self):\n",
    "        return self.__balance"
   ]
  },
  {
   "cell_type": "code",
   "execution_count": 25,
   "id": "594391c8-af72-4161-9f95-036297bd3894",
   "metadata": {},
   "outputs": [],
   "source": [
    "chandan= bank_account(2000)"
   ]
  },
  {
   "cell_type": "code",
   "execution_count": 26,
   "id": "e2df96c3-a34e-487e-8db9-11a7dbc0a725",
   "metadata": {},
   "outputs": [
    {
     "data": {
      "text/plain": [
       "2000"
      ]
     },
     "execution_count": 26,
     "metadata": {},
     "output_type": "execute_result"
    }
   ],
   "source": [
    "chandan.get_balance()"
   ]
  },
  {
   "cell_type": "code",
   "execution_count": 27,
   "id": "0f4842b7-9123-438c-9515-408091026372",
   "metadata": {},
   "outputs": [],
   "source": [
    "chandan.deposit(10000)"
   ]
  },
  {
   "cell_type": "code",
   "execution_count": 28,
   "id": "406f255e-bea9-44c4-b693-a84f8ed74790",
   "metadata": {},
   "outputs": [
    {
     "data": {
      "text/plain": [
       "12000"
      ]
     },
     "execution_count": 28,
     "metadata": {},
     "output_type": "execute_result"
    }
   ],
   "source": [
    "chandan.get_balance()"
   ]
  },
  {
   "cell_type": "code",
   "execution_count": 29,
   "id": "23a25ab7-f7ef-452d-b6f1-02ccd7ec553b",
   "metadata": {},
   "outputs": [
    {
     "data": {
      "text/plain": [
       "True"
      ]
     },
     "execution_count": 29,
     "metadata": {},
     "output_type": "execute_result"
    }
   ],
   "source": [
    "chandan.withdraw(5000)"
   ]
  },
  {
   "cell_type": "code",
   "execution_count": 30,
   "id": "231314ff-58e0-4901-a292-c0b589ebdff9",
   "metadata": {},
   "outputs": [
    {
     "data": {
      "text/plain": [
       "False"
      ]
     },
     "execution_count": 30,
     "metadata": {},
     "output_type": "execute_result"
    }
   ],
   "source": [
    "chandan.withdraw(8000)"
   ]
  },
  {
   "cell_type": "code",
   "execution_count": 31,
   "id": "4d22e143-9fd0-4718-922e-9586b1798efa",
   "metadata": {},
   "outputs": [
    {
     "data": {
      "text/plain": [
       "7000"
      ]
     },
     "execution_count": 31,
     "metadata": {},
     "output_type": "execute_result"
    }
   ],
   "source": [
    "chandan.get_balance()"
   ]
  },
  {
   "cell_type": "code",
   "execution_count": null,
   "id": "22a15056-46dd-436b-bb0e-2b6cf58b9ccc",
   "metadata": {},
   "outputs": [],
   "source": []
  }
 ],
 "metadata": {
  "kernelspec": {
   "display_name": "Python 3 (ipykernel)",
   "language": "python",
   "name": "python3"
  },
  "language_info": {
   "codemirror_mode": {
    "name": "ipython",
    "version": 3
   },
   "file_extension": ".py",
   "mimetype": "text/x-python",
   "name": "python",
   "nbconvert_exporter": "python",
   "pygments_lexer": "ipython3",
   "version": "3.10.8"
  }
 },
 "nbformat": 4,
 "nbformat_minor": 5
}
