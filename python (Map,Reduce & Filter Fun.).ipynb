{
 "cells": [
  {
   "cell_type": "code",
   "execution_count": 1,
   "id": "4cadf523-c917-4fc1-98da-342a25567a19",
   "metadata": {},
   "outputs": [],
   "source": [
    "l=[2,5,4,6,8,3]"
   ]
  },
  {
   "cell_type": "code",
   "execution_count": 2,
   "id": "baf0df40-3d0b-4ee8-b35f-8c3400253293",
   "metadata": {},
   "outputs": [],
   "source": [
    "def test(l):\n",
    "    l1=[]\n",
    "    for i in l:\n",
    "        l1.append(i**2)\n",
    "    return l1"
   ]
  },
  {
   "cell_type": "code",
   "execution_count": 3,
   "id": "eacb1590-2c6b-4e18-bd0f-7ef4e9cc6a82",
   "metadata": {},
   "outputs": [
    {
     "data": {
      "text/plain": [
       "[4, 25, 16, 36, 64, 9]"
      ]
     },
     "execution_count": 3,
     "metadata": {},
     "output_type": "execute_result"
    }
   ],
   "source": [
    "test(l)"
   ]
  },
  {
   "cell_type": "code",
   "execution_count": 4,
   "id": "a00fc6df-cfb9-49b5-a3e9-bc7ae52ff0c1",
   "metadata": {},
   "outputs": [],
   "source": [
    "#shortcut method by map function"
   ]
  },
  {
   "cell_type": "code",
   "execution_count": 5,
   "id": "fdfbe08c-8fbb-48d0-8b50-3a947bd06d3e",
   "metadata": {},
   "outputs": [],
   "source": [
    "def sq(x):\n",
    "    return x**2"
   ]
  },
  {
   "cell_type": "code",
   "execution_count": 6,
   "id": "3c29a9ea-1955-48a6-ab0b-9166243e2e78",
   "metadata": {},
   "outputs": [
    {
     "data": {
      "text/plain": [
       "[4, 25, 16, 36, 64, 9]"
      ]
     },
     "execution_count": 6,
     "metadata": {},
     "output_type": "execute_result"
    }
   ],
   "source": [
    "list(map(sq, l))"
   ]
  },
  {
   "cell_type": "code",
   "execution_count": 7,
   "id": "671fb0f8-dc71-4d44-bc2b-9628f97159c2",
   "metadata": {},
   "outputs": [
    {
     "data": {
      "text/plain": [
       "[4, 25, 16, 36, 64, 9]"
      ]
     },
     "execution_count": 7,
     "metadata": {},
     "output_type": "execute_result"
    }
   ],
   "source": [
    "list(map(lambda x: x**2, l))"
   ]
  },
  {
   "cell_type": "code",
   "execution_count": 8,
   "id": "3bdccdf7-96d1-495d-8424-23f367c92e1e",
   "metadata": {},
   "outputs": [
    {
     "data": {
      "text/plain": [
       "[7, 9, 11, 13, 15]"
      ]
     },
     "execution_count": 8,
     "metadata": {},
     "output_type": "execute_result"
    }
   ],
   "source": [
    "l1= [1,2,3,4,5]\n",
    "l2= [6,7,8,9,10]\n",
    "\n",
    "list(map(lambda x,y: x+y, l1,l2))"
   ]
  },
  {
   "cell_type": "code",
   "execution_count": 9,
   "id": "6c2614de-fe2a-4700-8ef5-2f42f9b7d3aa",
   "metadata": {},
   "outputs": [],
   "source": [
    "def add(x,y) :\n",
    "    return x+y"
   ]
  },
  {
   "cell_type": "code",
   "execution_count": 10,
   "id": "aa6933fb-baf6-4201-9de2-42851df122b1",
   "metadata": {},
   "outputs": [
    {
     "data": {
      "text/plain": [
       "[7, 9, 11, 13, 15]"
      ]
     },
     "execution_count": 10,
     "metadata": {},
     "output_type": "execute_result"
    }
   ],
   "source": [
    "list(map(add, l1,l2))"
   ]
  },
  {
   "cell_type": "code",
   "execution_count": 11,
   "id": "82831ccf-efe6-4c2a-bceb-40081f642766",
   "metadata": {},
   "outputs": [
    {
     "data": {
      "text/plain": [
       "['P', 'W', 'S', 'K', 'I', 'L', 'L', 'S']"
      ]
     },
     "execution_count": 11,
     "metadata": {},
     "output_type": "execute_result"
    }
   ],
   "source": [
    "s= \"pwskills\"\n",
    "list(map(lambda s: s.upper(), s))"
   ]
  },
  {
   "cell_type": "code",
   "execution_count": 12,
   "id": "8e2ce516-d018-4839-87aa-3ac4e14610cc",
   "metadata": {},
   "outputs": [],
   "source": [
    "from functools import reduce"
   ]
  },
  {
   "cell_type": "code",
   "execution_count": 13,
   "id": "93d1b49e-a0ac-4cd0-b208-285e61343fbd",
   "metadata": {},
   "outputs": [],
   "source": [
    "l = [1,2,3,4,5,6]"
   ]
  },
  {
   "cell_type": "code",
   "execution_count": 14,
   "id": "99852d05-4703-4d6a-8fc2-67d0b52bd1b4",
   "metadata": {},
   "outputs": [
    {
     "data": {
      "text/plain": [
       "21"
      ]
     },
     "execution_count": 14,
     "metadata": {},
     "output_type": "execute_result"
    }
   ],
   "source": [
    "reduce(lambda x,y: x+y, l)"
   ]
  },
  {
   "cell_type": "code",
   "execution_count": 15,
   "id": "7035a5d3-ace0-4a9e-a570-f1ef8ce0ce01",
   "metadata": {},
   "outputs": [
    {
     "ename": "TypeError",
     "evalue": "<lambda>() missing 1 required positional argument: 'z'",
     "output_type": "error",
     "traceback": [
      "\u001b[0;31m---------------------------------------------------------------------------\u001b[0m",
      "\u001b[0;31mTypeError\u001b[0m                                 Traceback (most recent call last)",
      "Cell \u001b[0;32mIn[15], line 1\u001b[0m\n\u001b[0;32m----> 1\u001b[0m \u001b[43mreduce\u001b[49m\u001b[43m(\u001b[49m\u001b[38;5;28;43;01mlambda\u001b[39;49;00m\u001b[43m \u001b[49m\u001b[43mx\u001b[49m\u001b[43m,\u001b[49m\u001b[43my\u001b[49m\u001b[43m,\u001b[49m\u001b[43mz\u001b[49m\u001b[43m:\u001b[49m\u001b[43m \u001b[49m\u001b[43mx\u001b[49m\u001b[38;5;241;43m+\u001b[39;49m\u001b[43my\u001b[49m\u001b[38;5;241;43m+\u001b[39;49m\u001b[43mz\u001b[49m\u001b[43m,\u001b[49m\u001b[43m \u001b[49m\u001b[43ml\u001b[49m\u001b[43m)\u001b[49m\n",
      "\u001b[0;31mTypeError\u001b[0m: <lambda>() missing 1 required positional argument: 'z'"
     ]
    }
   ],
   "source": [
    "reduce(lambda x,y,z: x+y+z, l)"
   ]
  },
  {
   "cell_type": "code",
   "execution_count": 16,
   "id": "251b0fde-eb63-4ef8-a607-d1aa605157b7",
   "metadata": {},
   "outputs": [],
   "source": [
    "# therefore we can't use 3 parameters in reduce fuctions."
   ]
  },
  {
   "cell_type": "code",
   "execution_count": 17,
   "id": "6a443b7a-9186-4166-b454-6aa2e6bef453",
   "metadata": {},
   "outputs": [
    {
     "data": {
      "text/plain": [
       "[1, 2, 3, 4, 5, 6]"
      ]
     },
     "execution_count": 17,
     "metadata": {},
     "output_type": "execute_result"
    }
   ],
   "source": [
    "reduce(lambda x,y: x+y, [l])"
   ]
  },
  {
   "cell_type": "code",
   "execution_count": 18,
   "id": "8f43f6fe-22dd-4559-9c77-56882ad09436",
   "metadata": {},
   "outputs": [
    {
     "data": {
      "text/plain": [
       "[1, 2, 3, 4, 5, 6]"
      ]
     },
     "execution_count": 18,
     "metadata": {},
     "output_type": "execute_result"
    }
   ],
   "source": [
    "reduce(lambda x,y: x+y, [l])"
   ]
  },
  {
   "cell_type": "code",
   "execution_count": 19,
   "id": "0237fd9f-59f7-4c18-a850-f2590a4953ae",
   "metadata": {},
   "outputs": [
    {
     "data": {
      "text/plain": [
       "720"
      ]
     },
     "execution_count": 19,
     "metadata": {},
     "output_type": "execute_result"
    }
   ],
   "source": [
    "reduce(lambda x,y: x*y, l)"
   ]
  },
  {
   "cell_type": "code",
   "execution_count": 20,
   "id": "602284de-1a76-48be-9435-d09524821f52",
   "metadata": {},
   "outputs": [
    {
     "data": {
      "text/plain": [
       "[1, 2, 3, 4, 5, 6]"
      ]
     },
     "execution_count": 20,
     "metadata": {},
     "output_type": "execute_result"
    }
   ],
   "source": [
    "l"
   ]
  },
  {
   "cell_type": "code",
   "execution_count": 23,
   "id": "52d395e8-e7cd-4cd6-8806-e7336495f35d",
   "metadata": {},
   "outputs": [],
   "source": [
    "# find the largest no. from the list:"
   ]
  },
  {
   "cell_type": "code",
   "execution_count": 21,
   "id": "944c6897-9103-4487-be16-cbb838e85f05",
   "metadata": {},
   "outputs": [
    {
     "data": {
      "text/plain": [
       "6"
      ]
     },
     "execution_count": 21,
     "metadata": {},
     "output_type": "execute_result"
    }
   ],
   "source": [
    "reduce(lambda x,y: x if x>y else y, l)"
   ]
  },
  {
   "cell_type": "code",
   "execution_count": 24,
   "id": "c7d0c984-16d4-4165-a48f-0d2979bf1653",
   "metadata": {},
   "outputs": [
    {
     "data": {
      "text/plain": [
       "[1, 2, 3, 4, 5, 6]"
      ]
     },
     "execution_count": 24,
     "metadata": {},
     "output_type": "execute_result"
    }
   ],
   "source": [
    "l"
   ]
  },
  {
   "cell_type": "code",
   "execution_count": 25,
   "id": "343f6f1f-eda2-4d01-a365-a6c9d79839e8",
   "metadata": {},
   "outputs": [],
   "source": [
    "# filter function"
   ]
  },
  {
   "cell_type": "code",
   "execution_count": 26,
   "id": "e621089a-a6f7-45f8-a2c2-eef83418a88a",
   "metadata": {},
   "outputs": [
    {
     "data": {
      "text/plain": [
       "[2, 4, 6]"
      ]
     },
     "execution_count": 26,
     "metadata": {},
     "output_type": "execute_result"
    }
   ],
   "source": [
    "list(filter(lambda x: x%2 ==0, l))"
   ]
  },
  {
   "cell_type": "code",
   "execution_count": 27,
   "id": "68ff283c-2c68-4226-8cbf-4de3307a8e17",
   "metadata": {},
   "outputs": [
    {
     "data": {
      "text/plain": [
       "[1, 3, 5]"
      ]
     },
     "execution_count": 27,
     "metadata": {},
     "output_type": "execute_result"
    }
   ],
   "source": [
    "list(filter(lambda x: x%2!= 0, l))"
   ]
  },
  {
   "cell_type": "code",
   "execution_count": 28,
   "id": "19e1bba2-5ccd-42e6-a012-1370900b5649",
   "metadata": {},
   "outputs": [],
   "source": [
    "l1 = [-4,8,5,-6,-7,3,-2,-1]"
   ]
  },
  {
   "cell_type": "code",
   "execution_count": 29,
   "id": "c6863169-d3cf-4cc5-8d9e-b16f887f6fd4",
   "metadata": {},
   "outputs": [
    {
     "data": {
      "text/plain": [
       "[-4, -6, -7, -2, -1]"
      ]
     },
     "execution_count": 29,
     "metadata": {},
     "output_type": "execute_result"
    }
   ],
   "source": [
    "list(filter(lambda x: x<0, l1))"
   ]
  },
  {
   "cell_type": "code",
   "execution_count": 30,
   "id": "a13a5f85-ffa6-45a0-bb0b-570984b0a984",
   "metadata": {},
   "outputs": [
    {
     "data": {
      "text/plain": [
       "[8, 5, 3]"
      ]
     },
     "execution_count": 30,
     "metadata": {},
     "output_type": "execute_result"
    }
   ],
   "source": [
    "list(filter(lambda x: x>0, l1))"
   ]
  },
  {
   "cell_type": "code",
   "execution_count": 31,
   "id": "997c5436-7c70-4fcf-aaa6-16099938f30c",
   "metadata": {},
   "outputs": [],
   "source": [
    "l2= [\"Chandan\", \"kumar\", \"PWskills\", \"Jamshedpur\", \"Vivek\", \"Prasad\"]"
   ]
  },
  {
   "cell_type": "code",
   "execution_count": 32,
   "id": "1199b302-989c-4019-a64f-1471ce046bfe",
   "metadata": {},
   "outputs": [
    {
     "data": {
      "text/plain": [
       "['kumar', 'Vivek']"
      ]
     },
     "execution_count": 32,
     "metadata": {},
     "output_type": "execute_result"
    }
   ],
   "source": [
    "list(filter(lambda x: len(x)<6, l2))"
   ]
  },
  {
   "cell_type": "code",
   "execution_count": 34,
   "id": "a1f1618c-e95d-4c49-a0ad-79ef6676199d",
   "metadata": {},
   "outputs": [
    {
     "data": {
      "text/plain": [
       "['Chandan', 'kumar', 'Vivek', 'Prasad']"
      ]
     },
     "execution_count": 34,
     "metadata": {},
     "output_type": "execute_result"
    }
   ],
   "source": [
    "list(filter(lambda x: len(x)<8,l2))"
   ]
  },
  {
   "cell_type": "code",
   "execution_count": null,
   "id": "a11b4763-45d7-40f5-a29d-6f45acf70cac",
   "metadata": {},
   "outputs": [],
   "source": []
  }
 ],
 "metadata": {
  "kernelspec": {
   "display_name": "Python 3 (ipykernel)",
   "language": "python",
   "name": "python3"
  },
  "language_info": {
   "codemirror_mode": {
    "name": "ipython",
    "version": 3
   },
   "file_extension": ".py",
   "mimetype": "text/x-python",
   "name": "python",
   "nbconvert_exporter": "python",
   "pygments_lexer": "ipython3",
   "version": "3.10.8"
  }
 },
 "nbformat": 4,
 "nbformat_minor": 5
}
