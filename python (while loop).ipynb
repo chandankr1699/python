{
 "cells": [
  {
   "cell_type": "code",
   "execution_count": 1,
   "id": "9495d7ba-1749-45a1-b104-27abb6ee4fe9",
   "metadata": {},
   "outputs": [
    {
     "name": "stdout",
     "output_type": "stream",
     "text": [
      "1\n",
      "2\n",
      "3\n",
      "4\n",
      "5\n",
      "6\n",
      "7\n",
      "8\n",
      "9\n",
      "10\n"
     ]
    }
   ],
   "source": [
    "a=1\n",
    "while a <= 10:\n",
    "    print(a)\n",
    "    a = a+1"
   ]
  },
  {
   "cell_type": "code",
   "execution_count": 2,
   "id": "3aee6c3b-54f1-459b-b6fa-6615e6acc3ca",
   "metadata": {},
   "outputs": [],
   "source": [
    "#sum up the number till some point"
   ]
  },
  {
   "cell_type": "code",
   "execution_count": 6,
   "id": "bf3d49ab-8c02-4b67-9ef1-89bf8c0ec821",
   "metadata": {},
   "outputs": [
    {
     "name": "stdin",
     "output_type": "stream",
     "text": [
      "enter your limit 5\n"
     ]
    },
    {
     "data": {
      "text/plain": [
       "15"
      ]
     },
     "execution_count": 6,
     "metadata": {},
     "output_type": "execute_result"
    }
   ],
   "source": [
    "n = int(input(\"enter your limit\"))\n",
    "starting_point= 0\n",
    "counter= 1\n",
    "\n",
    "while counter <= n:\n",
    "    starting_point = starting_point + counter\n",
    "    counter = counter + 1\n",
    "starting_point"
   ]
  },
  {
   "cell_type": "code",
   "execution_count": 8,
   "id": "218ac572-f1a8-4420-b200-a29fb58c6eb2",
   "metadata": {},
   "outputs": [
    {
     "name": "stdin",
     "output_type": "stream",
     "text": [
      "enter your number 3\n"
     ]
    },
    {
     "data": {
      "text/plain": [
       "6"
      ]
     },
     "execution_count": 8,
     "metadata": {},
     "output_type": "execute_result"
    }
   ],
   "source": [
    "number = int(input(\"enter your number\"))\n",
    "factorial= 1\n",
    "while number > 0:\n",
    "    factorial= factorial*number\n",
    "    number= number-1\n",
    "factorial"
   ]
  },
  {
   "cell_type": "code",
   "execution_count": 9,
   "id": "602cc56a-0bee-4648-a581-380d327f5c92",
   "metadata": {},
   "outputs": [],
   "source": [
    "#Finonacci series"
   ]
  },
  {
   "cell_type": "code",
   "execution_count": 10,
   "id": "a67ab96b-9f41-4986-8b6f-81cb05380faa",
   "metadata": {},
   "outputs": [
    {
     "name": "stdin",
     "output_type": "stream",
     "text": [
      "enter the number of element you are looking for 10\n"
     ]
    },
    {
     "name": "stdout",
     "output_type": "stream",
     "text": [
      "0\n",
      "1\n",
      "1\n",
      "2\n",
      "3\n",
      "5\n",
      "8\n",
      "13\n",
      "21\n",
      "34\n"
     ]
    }
   ],
   "source": [
    "number = int(input(\"enter the number of element you are looking for\"))\n",
    "a,b,= 0,1\n",
    "counter= 0\n",
    "while counter < number:\n",
    "    print(a)\n",
    "    c= a+b\n",
    "    a= b\n",
    "    b= c\n",
    "    counter= counter + 1"
   ]
  },
  {
   "cell_type": "code",
   "execution_count": 11,
   "id": "f294329b-ef07-4b4f-9233-70190189c82c",
   "metadata": {},
   "outputs": [
    {
     "name": "stdout",
     "output_type": "stream",
     "text": [
      "0\n",
      "1\n",
      "1\n",
      "2\n",
      "3\n",
      "5\n",
      "8\n",
      "13\n",
      "21\n",
      "34\n"
     ]
    }
   ],
   "source": [
    "a,b= 0,1\n",
    "\n",
    "for i in range(10) :\n",
    "    print(a)\n",
    "    c= a+b\n",
    "    a= b\n",
    "    b= c\n",
    "    "
   ]
  },
  {
   "cell_type": "code",
   "execution_count": 12,
   "id": "4ac1d028-ae67-4355-8546-fea962292188",
   "metadata": {},
   "outputs": [],
   "source": [
    "C= \"chand\""
   ]
  },
  {
   "cell_type": "code",
   "execution_count": 13,
   "id": "334b3b14-7b9e-49ed-b2aa-4a60720e860b",
   "metadata": {},
   "outputs": [
    {
     "data": {
      "text/plain": [
       "'dnahc'"
      ]
     },
     "execution_count": 13,
     "metadata": {},
     "output_type": "execute_result"
    }
   ],
   "source": [
    "C[::-1]"
   ]
  },
  {
   "cell_type": "code",
   "execution_count": 15,
   "id": "4b324dd8-7e18-41f1-b046-9fd7f69b0cd6",
   "metadata": {},
   "outputs": [
    {
     "data": {
      "text/plain": [
       "'chand'"
      ]
     },
     "execution_count": 15,
     "metadata": {},
     "output_type": "execute_result"
    }
   ],
   "source": [
    "C[0:5:1]"
   ]
  },
  {
   "cell_type": "code",
   "execution_count": null,
   "id": "bec5d907-0349-4e6a-8ca2-f09e0a1b2336",
   "metadata": {},
   "outputs": [
    {
     "name": "stdin",
     "output_type": "stream",
     "text": [
      "enter your string for reversal chandan\n"
     ]
    }
   ],
   "source": [
    "word= input(\"enter your string for reversal\")"
   ]
  },
  {
   "cell_type": "code",
   "execution_count": 17,
   "id": "c3174f2d-a1e4-4468-abb6-2a3e334fb377",
   "metadata": {},
   "outputs": [
    {
     "name": "stdout",
     "output_type": "stream",
     "text": [
      "nadnahc\n"
     ]
    }
   ],
   "source": [
    "reverse = \"\"\n",
    "length = len(word)\n",
    "while length > 0:\n",
    "    reverse= reverse + word[length-1]\n",
    "    length= length-1\n",
    "print(reverse)"
   ]
  },
  {
   "cell_type": "code",
   "execution_count": 18,
   "id": "f217df6e-ada6-40e2-85fc-ba11bae709f4",
   "metadata": {},
   "outputs": [],
   "source": [
    "#print table of numbers"
   ]
  },
  {
   "cell_type": "code",
   "execution_count": 20,
   "id": "4c11e478-6f7f-404e-a6ad-73d0879688f8",
   "metadata": {},
   "outputs": [
    {
     "name": "stdin",
     "output_type": "stream",
     "text": [
      "enter your number 2\n"
     ]
    },
    {
     "name": "stdout",
     "output_type": "stream",
     "text": [
      "2  *  1  =  2\n",
      "2  *  2  =  4\n",
      "2  *  3  =  6\n",
      "2  *  4  =  8\n",
      "2  *  5  =  10\n",
      "2  *  6  =  12\n",
      "2  *  7  =  14\n",
      "2  *  8  =  16\n",
      "2  *  9  =  18\n",
      "2  *  10  =  20\n"
     ]
    }
   ],
   "source": [
    "n= int(input(\"enter your number\"))\n",
    "i=1\n",
    "\n",
    "while i <= 10 :\n",
    "    result = n*i\n",
    "    print(n, \" * \", i, \" = \", result)\n",
    "    i= i+1\n",
    "    "
   ]
  },
  {
   "cell_type": "code",
   "execution_count": 22,
   "id": "c24a76c6-4e04-4d64-99e5-ac8932b33409",
   "metadata": {},
   "outputs": [
    {
     "name": "stdout",
     "output_type": "stream",
     "text": [
      "1\n",
      "2\n",
      "3\n",
      "4\n",
      "this will executed once your while will complete it succesfully\n"
     ]
    }
   ],
   "source": [
    "n= 5\n",
    "i= 1\n",
    "while i<n:\n",
    "    print(i)\n",
    "    i= i+1\n",
    "else :\n",
    "    print(\"this will executed once your while will complete it succesfully\")"
   ]
  },
  {
   "cell_type": "code",
   "execution_count": 23,
   "id": "105c038b-a717-4a3d-9568-39109e6e31fb",
   "metadata": {},
   "outputs": [
    {
     "name": "stdout",
     "output_type": "stream",
     "text": [
      "1\n",
      "2\n",
      "3\n",
      "4\n",
      "5\n",
      "6\n"
     ]
    }
   ],
   "source": [
    "n=7\n",
    "i=1\n",
    "while i<=n :\n",
    "    print(i)\n",
    "    if i==6 :\n",
    "        break\n",
    "    i= i+1\n",
    "else :\n",
    "    print(\"executed once while succesfully completed\")\n"
   ]
  },
  {
   "cell_type": "code",
   "execution_count": null,
   "id": "11b8eddb-cfbd-4148-ae02-a5750603964e",
   "metadata": {},
   "outputs": [],
   "source": []
  }
 ],
 "metadata": {
  "kernelspec": {
   "display_name": "Python 3 (ipykernel)",
   "language": "python",
   "name": "python3"
  },
  "language_info": {
   "codemirror_mode": {
    "name": "ipython",
    "version": 3
   },
   "file_extension": ".py",
   "mimetype": "text/x-python",
   "name": "python",
   "nbconvert_exporter": "python",
   "pygments_lexer": "ipython3",
   "version": "3.10.8"
  }
 },
 "nbformat": 4,
 "nbformat_minor": 5
}
