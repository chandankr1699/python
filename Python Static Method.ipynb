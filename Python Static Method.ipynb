{
 "cells": [
  {
   "cell_type": "code",
   "execution_count": 1,
   "id": "4db00677-9f89-4ed3-84ee-5bb083fc84ed",
   "metadata": {},
   "outputs": [],
   "source": [
    "class pwskills:\n",
    "    def student_details(self, name, mail_id, number):\n",
    "        print(name, mail_id, number)"
   ]
  },
  {
   "cell_type": "code",
   "execution_count": 2,
   "id": "1a03d218-bd5c-4488-ae37-6e6021215383",
   "metadata": {},
   "outputs": [],
   "source": [
    "pw = pwskills()"
   ]
  },
  {
   "cell_type": "code",
   "execution_count": 3,
   "id": "1b6edb93-29f3-435b-802d-121cd15a6f53",
   "metadata": {},
   "outputs": [
    {
     "name": "stdout",
     "output_type": "stream",
     "text": [
      "chandan chandan@gmail.com 7825634895\n"
     ]
    }
   ],
   "source": [
    "pw.student_details(\"chandan\", \"chandan@gmail.com\", 7825634895)"
   ]
  },
  {
   "cell_type": "code",
   "execution_count": 7,
   "id": "bf50fd1a-728c-49a5-b0a4-c41d8678a8d1",
   "metadata": {},
   "outputs": [],
   "source": [
    "class pwskills1:\n",
    "    def student_details(self, name, mail_id, number):\n",
    "        print(name, mail_id, number)\n",
    "        \n",
    "    @staticmethod\n",
    "    def mentor_class(list_mentor):\n",
    "        print(list_mentor)\n",
    "        \n",
    "    def mentor(self, mentor_list):\n",
    "        print(mentor_list)"
   ]
  },
  {
   "cell_type": "code",
   "execution_count": 8,
   "id": "4f3504c3-a4ff-4b4b-bc0a-8432a68db74e",
   "metadata": {},
   "outputs": [
    {
     "name": "stdout",
     "output_type": "stream",
     "text": [
      "['chandan', 'vivek']\n"
     ]
    }
   ],
   "source": [
    "pwskills1.mentor_class([\"chandan\", \"vivek\"])"
   ]
  },
  {
   "cell_type": "code",
   "execution_count": 9,
   "id": "c41d6a35-2990-4bbc-b9ed-7ee0e97e11a5",
   "metadata": {},
   "outputs": [],
   "source": [
    "stu1 = pwskills1()"
   ]
  },
  {
   "cell_type": "code",
   "execution_count": 10,
   "id": "e91ff281-d306-47ce-9dc1-5e042b3c4586",
   "metadata": {},
   "outputs": [],
   "source": [
    "stu2 = pwskills1()"
   ]
  },
  {
   "cell_type": "code",
   "execution_count": 11,
   "id": "02631fbb-4320-49f2-b856-b5ff474ed4e2",
   "metadata": {},
   "outputs": [],
   "source": [
    "stu3 = pwskills1()"
   ]
  },
  {
   "cell_type": "code",
   "execution_count": 12,
   "id": "d6944471-e74a-4cdd-b4e4-e98299a83af7",
   "metadata": {},
   "outputs": [
    {
     "name": "stdout",
     "output_type": "stream",
     "text": [
      "['chandan', 'vivek']\n"
     ]
    }
   ],
   "source": [
    "stu1.mentor([\"chandan\", \"vivek\"])"
   ]
  },
  {
   "cell_type": "code",
   "execution_count": 18,
   "id": "a6e991f8-3af8-4bef-9f87-42077fc9b4c5",
   "metadata": {},
   "outputs": [],
   "source": [
    "class pwskills2:\n",
    "    def student_details(self, name, mail_id, number):\n",
    "        print(name, mail_id, number)\n",
    "        \n",
    "    @staticmethod\n",
    "    def mentor_mail_id(mail_id_mentor):\n",
    "        print(mail_id_mentor)\n",
    "        \n",
    "    @staticmethod\n",
    "    def mentor_class(list_mentor):\n",
    "        pwskills2.mentor_mail_id([\"chandan@gmail.com\", \"vivek@gmail.com\"])\n",
    "        print(list_mentor)\n",
    "        \n",
    "    @classmethod\n",
    "    def class_name(cls):\n",
    "        cls.mentor_class([\"chandan\", \"vivek\"])\n",
    "        \n",
    "    def mentor(self, mentor_list):\n",
    "        print(mentor_list)\n",
    "        self.mentor_class([\"Chandan\", \"vivek\"])"
   ]
  },
  {
   "cell_type": "code",
   "execution_count": 15,
   "id": "542b9de1-3532-4a90-9403-ba5795da8652",
   "metadata": {},
   "outputs": [
    {
     "name": "stdout",
     "output_type": "stream",
     "text": [
      "['chandan', 'vivek']\n"
     ]
    }
   ],
   "source": [
    "pwskills2.class_name()"
   ]
  },
  {
   "cell_type": "code",
   "execution_count": 17,
   "id": "cc84da23-864c-4d59-b6e6-ca04cf91fb62",
   "metadata": {},
   "outputs": [
    {
     "name": "stdout",
     "output_type": "stream",
     "text": [
      "['chandan@gmail.com', 'vivek@gmail.com']\n",
      "['chandan', 'vivek']\n"
     ]
    }
   ],
   "source": [
    "pwskills2.mentor_class([\"chandan\", \"vivek\"])"
   ]
  },
  {
   "cell_type": "code",
   "execution_count": 19,
   "id": "6b5920b3-f801-402b-8c52-fca9c3daa101",
   "metadata": {},
   "outputs": [],
   "source": [
    "pw = pwskills2()"
   ]
  },
  {
   "cell_type": "code",
   "execution_count": 20,
   "id": "5e61aad3-aac5-4a8a-b516-34fdaf5b006d",
   "metadata": {},
   "outputs": [
    {
     "name": "stdout",
     "output_type": "stream",
     "text": [
      "['chandan', 'vivek']\n",
      "['chandan@gmail.com', 'vivek@gmail.com']\n",
      "['Chandan', 'vivek']\n"
     ]
    }
   ],
   "source": [
    "pw.mentor([\"chandan\", \"vivek\"])"
   ]
  },
  {
   "cell_type": "code",
   "execution_count": null,
   "id": "bf190837-bedf-4bee-b13e-61682107f465",
   "metadata": {},
   "outputs": [],
   "source": []
  }
 ],
 "metadata": {
  "kernelspec": {
   "display_name": "Python 3 (ipykernel)",
   "language": "python",
   "name": "python3"
  },
  "language_info": {
   "codemirror_mode": {
    "name": "ipython",
    "version": 3
   },
   "file_extension": ".py",
   "mimetype": "text/x-python",
   "name": "python",
   "nbconvert_exporter": "python",
   "pygments_lexer": "ipython3",
   "version": "3.10.8"
  }
 },
 "nbformat": 4,
 "nbformat_minor": 5
}
