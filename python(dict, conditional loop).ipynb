{
 "cells": [
  {
   "cell_type": "code",
   "execution_count": 1,
   "id": "52d33fb2-8335-42c0-89d9-93bdcedb44c2",
   "metadata": {},
   "outputs": [],
   "source": [
    "d={}"
   ]
  },
  {
   "cell_type": "code",
   "execution_count": 2,
   "id": "0d72d9dc-0217-4653-b790-46732d36731a",
   "metadata": {},
   "outputs": [
    {
     "data": {
      "text/plain": [
       "dict"
      ]
     },
     "execution_count": 2,
     "metadata": {},
     "output_type": "execute_result"
    }
   ],
   "source": [
    "type(d)"
   ]
  },
  {
   "cell_type": "code",
   "execution_count": 3,
   "id": "7fcf6253-e306-4928-b249-480607cced10",
   "metadata": {},
   "outputs": [],
   "source": [
    "d1={'key' : \"chand\"}"
   ]
  },
  {
   "cell_type": "code",
   "execution_count": 4,
   "id": "f16a28d0-88bc-42f0-821f-82c1953342d2",
   "metadata": {},
   "outputs": [
    {
     "data": {
      "text/plain": [
       "{'key': 'chand'}"
      ]
     },
     "execution_count": 4,
     "metadata": {},
     "output_type": "execute_result"
    }
   ],
   "source": [
    "d1"
   ]
  },
  {
   "cell_type": "code",
   "execution_count": 5,
   "id": "45e2dc5b-27b8-4f95-b568-66e5e090392b",
   "metadata": {},
   "outputs": [],
   "source": [
    "d2={\"name\" : \"Chandan\", \"email\" : \"chandankumar59444@gmail.com\", \"number\": 7004792743}"
   ]
  },
  {
   "cell_type": "code",
   "execution_count": 6,
   "id": "8b9d90a2-2475-4f12-b2a1-5e891225e3d0",
   "metadata": {},
   "outputs": [
    {
     "data": {
      "text/plain": [
       "{'name': 'Chandan',\n",
       " 'email': 'chandankumar59444@gmail.com',\n",
       " 'number': 7004792743}"
      ]
     },
     "execution_count": 6,
     "metadata": {},
     "output_type": "execute_result"
    }
   ],
   "source": [
    "d2"
   ]
  },
  {
   "cell_type": "code",
   "execution_count": 7,
   "id": "f19ed471-8dc1-4715-882c-cfd55ae2df4c",
   "metadata": {},
   "outputs": [],
   "source": [
    "d3={234 : \"chand\", 456 : \"kumar\", True : 1999}"
   ]
  },
  {
   "cell_type": "code",
   "execution_count": 8,
   "id": "5f881c8e-dd92-4fb5-b733-a0046f8298ae",
   "metadata": {},
   "outputs": [
    {
     "data": {
      "text/plain": [
       "{234: 'chand', 456: 'kumar', True: 1999}"
      ]
     },
     "execution_count": 8,
     "metadata": {},
     "output_type": "execute_result"
    }
   ],
   "source": [
    "d3"
   ]
  },
  {
   "cell_type": "code",
   "execution_count": 9,
   "id": "2ed35bed-c220-45a6-b8dc-817f40e150ba",
   "metadata": {},
   "outputs": [
    {
     "data": {
      "text/plain": [
       "'chand'"
      ]
     },
     "execution_count": 9,
     "metadata": {},
     "output_type": "execute_result"
    }
   ],
   "source": [
    "d3[234]"
   ]
  },
  {
   "cell_type": "code",
   "execution_count": 10,
   "id": "0a8f9960-9da5-45eb-99e5-d99d583c9c87",
   "metadata": {},
   "outputs": [
    {
     "data": {
      "text/plain": [
       "'kumar'"
      ]
     },
     "execution_count": 10,
     "metadata": {},
     "output_type": "execute_result"
    }
   ],
   "source": [
    "d3[456]"
   ]
  },
  {
   "cell_type": "code",
   "execution_count": 11,
   "id": "0b64453b-f572-492a-a8e3-a735a363e278",
   "metadata": {},
   "outputs": [
    {
     "data": {
      "text/plain": [
       "1999"
      ]
     },
     "execution_count": 11,
     "metadata": {},
     "output_type": "execute_result"
    }
   ],
   "source": [
    "d3[True]"
   ]
  },
  {
   "cell_type": "code",
   "execution_count": 12,
   "id": "cf63b349-d16a-447d-ae73-0277dba33f78",
   "metadata": {},
   "outputs": [
    {
     "data": {
      "text/plain": [
       "1999"
      ]
     },
     "execution_count": 12,
     "metadata": {},
     "output_type": "execute_result"
    }
   ],
   "source": [
    "d3[1]"
   ]
  },
  {
   "cell_type": "code",
   "execution_count": 13,
   "id": "db9b718c-1c12-4c98-a161-59068069139c",
   "metadata": {},
   "outputs": [],
   "source": [
    "d4={'name':'chand', 'mail_id':'chandan1999@gmail.com', 'name':'chandan'}"
   ]
  },
  {
   "cell_type": "code",
   "execution_count": 14,
   "id": "feaa6353-1678-47ee-8ca3-5bab4e1d00c1",
   "metadata": {},
   "outputs": [
    {
     "data": {
      "text/plain": [
       "'chandan'"
      ]
     },
     "execution_count": 14,
     "metadata": {},
     "output_type": "execute_result"
    }
   ],
   "source": [
    "d4['name']"
   ]
  },
  {
   "cell_type": "code",
   "execution_count": 15,
   "id": "44e76dc6-ff28-4876-a991-dc51d5aa3109",
   "metadata": {},
   "outputs": [],
   "source": [
    "d5={\"company\" : \"pwskills\", \"course\":[\"web dev\", \"data science\", \"java with dsa system design\"]}"
   ]
  },
  {
   "cell_type": "code",
   "execution_count": 16,
   "id": "fa639d32-ad93-479e-a3a0-89e1294c1b6c",
   "metadata": {},
   "outputs": [
    {
     "data": {
      "text/plain": [
       "{'company': 'pwskills',\n",
       " 'course': ['web dev', 'data science', 'java with dsa system design']}"
      ]
     },
     "execution_count": 16,
     "metadata": {},
     "output_type": "execute_result"
    }
   ],
   "source": [
    "d5"
   ]
  },
  {
   "cell_type": "code",
   "execution_count": 17,
   "id": "b74547dd-3add-4b96-acb0-f47511df88a2",
   "metadata": {},
   "outputs": [
    {
     "data": {
      "text/plain": [
       "['web dev', 'data science', 'java with dsa system design']"
      ]
     },
     "execution_count": 17,
     "metadata": {},
     "output_type": "execute_result"
    }
   ],
   "source": [
    "d5[\"course\"]"
   ]
  },
  {
   "cell_type": "code",
   "execution_count": 18,
   "id": "21a47b15-9594-4dc7-9192-7acf6945a658",
   "metadata": {},
   "outputs": [
    {
     "data": {
      "text/plain": [
       "'java with dsa system design'"
      ]
     },
     "execution_count": 18,
     "metadata": {},
     "output_type": "execute_result"
    }
   ],
   "source": [
    "d5[\"course\"][2]"
   ]
  },
  {
   "cell_type": "code",
   "execution_count": 19,
   "id": "730c9517-0a04-41f2-8e97-bd8132f62b96",
   "metadata": {},
   "outputs": [],
   "source": [
    "d6={\"number\":[2,34,3,34,34], \"assignment\":(1,2,3,4,5,6), \"launch_date\":{28,12,14}, \"class_time\":{\"web_dev\": 8, \"data science masters\": 8, \"java with dsa and system design\": 7}}"
   ]
  },
  {
   "cell_type": "code",
   "execution_count": 20,
   "id": "c931d418-ae6d-4690-afeb-b16515256276",
   "metadata": {},
   "outputs": [
    {
     "data": {
      "text/plain": [
       "{'number': [2, 34, 3, 34, 34],\n",
       " 'assignment': (1, 2, 3, 4, 5, 6),\n",
       " 'launch_date': {12, 14, 28},\n",
       " 'class_time': {'web_dev': 8,\n",
       "  'data science masters': 8,\n",
       "  'java with dsa and system design': 7}}"
      ]
     },
     "execution_count": 20,
     "metadata": {},
     "output_type": "execute_result"
    }
   ],
   "source": [
    "d6"
   ]
  },
  {
   "cell_type": "code",
   "execution_count": 21,
   "id": "66db86ec-4832-4ae0-8797-8542d3435d44",
   "metadata": {},
   "outputs": [
    {
     "data": {
      "text/plain": [
       "{'web_dev': 8, 'data science masters': 8, 'java with dsa and system design': 7}"
      ]
     },
     "execution_count": 21,
     "metadata": {},
     "output_type": "execute_result"
    }
   ],
   "source": [
    "d6['class_time']"
   ]
  },
  {
   "cell_type": "code",
   "execution_count": 22,
   "id": "ed458872-6fba-47a2-ab43-4c79c338a46d",
   "metadata": {},
   "outputs": [
    {
     "data": {
      "text/plain": [
       "7"
      ]
     },
     "execution_count": 22,
     "metadata": {},
     "output_type": "execute_result"
    }
   ],
   "source": [
    "d6[\"class_time\"][\"java with dsa and system design\"]"
   ]
  },
  {
   "cell_type": "code",
   "execution_count": 23,
   "id": "857eda91-d7c4-480e-9f6a-9c11a3632126",
   "metadata": {},
   "outputs": [],
   "source": [
    "d6[\"mentor\"]=[\"sudhanshu\",\"krish\",\"anurag\",\"hayder\"]"
   ]
  },
  {
   "cell_type": "code",
   "execution_count": 24,
   "id": "efb88aa1-485f-4699-a89e-8b6fa8957a58",
   "metadata": {},
   "outputs": [
    {
     "data": {
      "text/plain": [
       "{'number': [2, 34, 3, 34, 34],\n",
       " 'assignment': (1, 2, 3, 4, 5, 6),\n",
       " 'launch_date': {12, 14, 28},\n",
       " 'class_time': {'web_dev': 8,\n",
       "  'data science masters': 8,\n",
       "  'java with dsa and system design': 7},\n",
       " 'mentor': ['sudhanshu', 'krish', 'anurag', 'hayder']}"
      ]
     },
     "execution_count": 24,
     "metadata": {},
     "output_type": "execute_result"
    }
   ],
   "source": [
    "d6"
   ]
  },
  {
   "cell_type": "code",
   "execution_count": 25,
   "id": "e6fc0cb6-5bc4-4595-a368-6da541578a66",
   "metadata": {},
   "outputs": [],
   "source": [
    "del d6[\"number\"]"
   ]
  },
  {
   "cell_type": "code",
   "execution_count": 26,
   "id": "102ac863-83d6-4ff0-ab01-b79ebe68e4bc",
   "metadata": {},
   "outputs": [
    {
     "data": {
      "text/plain": [
       "{'assignment': (1, 2, 3, 4, 5, 6),\n",
       " 'launch_date': {12, 14, 28},\n",
       " 'class_time': {'web_dev': 8,\n",
       "  'data science masters': 8,\n",
       "  'java with dsa and system design': 7},\n",
       " 'mentor': ['sudhanshu', 'krish', 'anurag', 'hayder']}"
      ]
     },
     "execution_count": 26,
     "metadata": {},
     "output_type": "execute_result"
    }
   ],
   "source": [
    "d6"
   ]
  },
  {
   "cell_type": "code",
   "execution_count": 27,
   "id": "ec27646a-36ca-41d8-b53a-8d6a6d2250d4",
   "metadata": {},
   "outputs": [
    {
     "data": {
      "text/plain": [
       "dict_keys(['assignment', 'launch_date', 'class_time', 'mentor'])"
      ]
     },
     "execution_count": 27,
     "metadata": {},
     "output_type": "execute_result"
    }
   ],
   "source": [
    "d6.keys()"
   ]
  },
  {
   "cell_type": "code",
   "execution_count": 28,
   "id": "4e8f0ecb-fbb7-42a0-b215-cb79a179c494",
   "metadata": {},
   "outputs": [
    {
     "data": {
      "text/plain": [
       "['assignment', 'launch_date', 'class_time', 'mentor']"
      ]
     },
     "execution_count": 28,
     "metadata": {},
     "output_type": "execute_result"
    }
   ],
   "source": [
    "list(d6.keys())"
   ]
  },
  {
   "cell_type": "code",
   "execution_count": 29,
   "id": "04808522-30e6-41de-95fb-bf046828ece4",
   "metadata": {},
   "outputs": [
    {
     "data": {
      "text/plain": [
       "dict_values([(1, 2, 3, 4, 5, 6), {28, 12, 14}, {'web_dev': 8, 'data science masters': 8, 'java with dsa and system design': 7}, ['sudhanshu', 'krish', 'anurag', 'hayder']])"
      ]
     },
     "execution_count": 29,
     "metadata": {},
     "output_type": "execute_result"
    }
   ],
   "source": [
    "d6.values()"
   ]
  },
  {
   "cell_type": "code",
   "execution_count": 30,
   "id": "e3ab6817-d0d9-4370-8731-809875afc3f7",
   "metadata": {},
   "outputs": [
    {
     "data": {
      "text/plain": [
       "[(1, 2, 3, 4, 5, 6),\n",
       " {12, 14, 28},\n",
       " {'web_dev': 8,\n",
       "  'data science masters': 8,\n",
       "  'java with dsa and system design': 7},\n",
       " ['sudhanshu', 'krish', 'anurag', 'hayder']]"
      ]
     },
     "execution_count": 30,
     "metadata": {},
     "output_type": "execute_result"
    }
   ],
   "source": [
    "list(d6.values())"
   ]
  },
  {
   "cell_type": "code",
   "execution_count": 31,
   "id": "ed85dc3e-71cb-42a6-9137-51acbb647cd6",
   "metadata": {},
   "outputs": [
    {
     "data": {
      "text/plain": [
       "dict_items([('assignment', (1, 2, 3, 4, 5, 6)), ('launch_date', {28, 12, 14}), ('class_time', {'web_dev': 8, 'data science masters': 8, 'java with dsa and system design': 7}), ('mentor', ['sudhanshu', 'krish', 'anurag', 'hayder'])])"
      ]
     },
     "execution_count": 31,
     "metadata": {},
     "output_type": "execute_result"
    }
   ],
   "source": [
    "d6.items()"
   ]
  },
  {
   "cell_type": "code",
   "execution_count": 32,
   "id": "f239e379-76a9-4704-91db-10a52c999f2d",
   "metadata": {},
   "outputs": [
    {
     "data": {
      "text/plain": [
       "[('assignment', (1, 2, 3, 4, 5, 6)),\n",
       " ('launch_date', {12, 14, 28}),\n",
       " ('class_time',\n",
       "  {'web_dev': 8,\n",
       "   'data science masters': 8,\n",
       "   'java with dsa and system design': 7}),\n",
       " ('mentor', ['sudhanshu', 'krish', 'anurag', 'hayder'])]"
      ]
     },
     "execution_count": 32,
     "metadata": {},
     "output_type": "execute_result"
    }
   ],
   "source": [
    "list(d6.items())"
   ]
  },
  {
   "cell_type": "code",
   "execution_count": 33,
   "id": "f875d352-76b0-48db-bf29-8f60ad5092e2",
   "metadata": {},
   "outputs": [
    {
     "data": {
      "text/plain": [
       "(1, 2, 3, 4, 5, 6)"
      ]
     },
     "execution_count": 33,
     "metadata": {},
     "output_type": "execute_result"
    }
   ],
   "source": [
    "d6.pop(\"assignment\")"
   ]
  },
  {
   "cell_type": "code",
   "execution_count": 34,
   "id": "5eb5d73d-936f-4eb9-b5cd-e11ff315e465",
   "metadata": {},
   "outputs": [
    {
     "data": {
      "text/plain": [
       "{'launch_date': {12, 14, 28},\n",
       " 'class_time': {'web_dev': 8,\n",
       "  'data science masters': 8,\n",
       "  'java with dsa and system design': 7},\n",
       " 'mentor': ['sudhanshu', 'krish', 'anurag', 'hayder']}"
      ]
     },
     "execution_count": 34,
     "metadata": {},
     "output_type": "execute_result"
    }
   ],
   "source": [
    "d6"
   ]
  },
  {
   "cell_type": "code",
   "execution_count": 35,
   "id": "b139608e-c674-409f-a62b-e16e3165720b",
   "metadata": {},
   "outputs": [
    {
     "ename": "TypeError",
     "evalue": "pop expected at least 1 argument, got 0",
     "output_type": "error",
     "traceback": [
      "\u001b[0;31m---------------------------------------------------------------------------\u001b[0m",
      "\u001b[0;31mTypeError\u001b[0m                                 Traceback (most recent call last)",
      "Cell \u001b[0;32mIn[35], line 1\u001b[0m\n\u001b[0;32m----> 1\u001b[0m \u001b[43md6\u001b[49m\u001b[38;5;241;43m.\u001b[39;49m\u001b[43mpop\u001b[49m\u001b[43m(\u001b[49m\u001b[43m)\u001b[49m\n",
      "\u001b[0;31mTypeError\u001b[0m: pop expected at least 1 argument, got 0"
     ]
    }
   ],
   "source": [
    "d6.pop()"
   ]
  },
  {
   "cell_type": "code",
   "execution_count": 36,
   "id": "d1d8cc4a-c8cb-4895-91f4-dee83fa7e6f5",
   "metadata": {},
   "outputs": [
    {
     "name": "stdin",
     "output_type": "stream",
     "text": [
      "enter your marks 90\n"
     ]
    },
    {
     "name": "stdout",
     "output_type": "stream",
     "text": [
      "you will be a part of A0 batch\n"
     ]
    }
   ],
   "source": [
    "marks=int(input(\"enter your marks\"))\n",
    "if marks >=80:\n",
    "    print(\"you will be a part of A0 batch\")\n",
    "elif marks >=60 and marks < 80:\n",
    "    print(\"you will be a part of A1 batch\")\n",
    "elif marks >=40 and marks < 60:\n",
    "    print(\"you will be a part of A2 batch\")\n",
    "else:\n",
    "    print(\"you will be a part of A3 batch\")"
   ]
  },
  {
   "cell_type": "code",
   "execution_count": 37,
   "id": "a731c54c-bd3f-488f-ade1-47d82b09950c",
   "metadata": {},
   "outputs": [
    {
     "name": "stdin",
     "output_type": "stream",
     "text": [
      "enter your marks 90\n"
     ]
    }
   ],
   "source": [
    "marks=int(input(\"enter your marks\"))"
   ]
  },
  {
   "cell_type": "code",
   "execution_count": 38,
   "id": "24d76021-017b-407a-ab8c-6ec77840d5e1",
   "metadata": {},
   "outputs": [
    {
     "data": {
      "text/plain": [
       "90"
      ]
     },
     "execution_count": 38,
     "metadata": {},
     "output_type": "execute_result"
    }
   ],
   "source": [
    "marks"
   ]
  },
  {
   "cell_type": "code",
   "execution_count": 39,
   "id": "12874a73-3691-4a60-a4c8-233ccd64304f",
   "metadata": {},
   "outputs": [
    {
     "data": {
      "text/plain": [
       "int"
      ]
     },
     "execution_count": 39,
     "metadata": {},
     "output_type": "execute_result"
    }
   ],
   "source": [
    "type(marks)"
   ]
  },
  {
   "cell_type": "code",
   "execution_count": 40,
   "id": "480838ad-b5ae-49a6-b7f8-54af364e1af4",
   "metadata": {},
   "outputs": [
    {
     "name": "stdin",
     "output_type": "stream",
     "text": [
      "enter your price 1500\n"
     ]
    },
    {
     "name": "stdout",
     "output_type": "stream",
     "text": [
      "i will not purchase\n"
     ]
    }
   ],
   "source": [
    "price = int(input(\"enter your price\"))\n",
    "if price > 1000:\n",
    "    print(\"i will not purchase\")\n",
    "else:\n",
    "    print(\"i will purchase\")"
   ]
  },
  {
   "cell_type": "code",
   "execution_count": 41,
   "id": "5d65db21-22d8-4a4d-a4e5-f52e83655374",
   "metadata": {},
   "outputs": [
    {
     "name": "stdin",
     "output_type": "stream",
     "text": [
      "enter your price 500\n"
     ]
    },
    {
     "name": "stdout",
     "output_type": "stream",
     "text": [
      "i will purchase\n"
     ]
    }
   ],
   "source": [
    "price = int(input(\"enter your price\"))\n",
    "if price > 1000:\n",
    "    print(\"i will not purchase\")\n",
    "    if price > 5000:\n",
    "        print(\"this is too much\")\n",
    "    elif price < 2000:\n",
    "        print(\"its ok\")\n",
    "elif price < 1000:\n",
    "    print(\"i will purchase\")\n",
    "else :\n",
    "    print(\"not interested\")"
   ]
  },
  {
   "cell_type": "code",
   "execution_count": 42,
   "id": "fff5f328-c417-4ac2-8d24-f3542607699d",
   "metadata": {},
   "outputs": [],
   "source": [
    "l = [1,2,3,4,5,6,7,8]"
   ]
  },
  {
   "cell_type": "code",
   "execution_count": 43,
   "id": "9ed763bf-274a-4d72-a493-d0070ed2c614",
   "metadata": {},
   "outputs": [
    {
     "data": {
      "text/plain": [
       "2"
      ]
     },
     "execution_count": 43,
     "metadata": {},
     "output_type": "execute_result"
    }
   ],
   "source": [
    "l[0] + 1"
   ]
  },
  {
   "cell_type": "code",
   "execution_count": 44,
   "id": "02c77ea2-2732-4cbe-8fa5-5146219b6379",
   "metadata": {},
   "outputs": [],
   "source": [
    "l1 = []"
   ]
  },
  {
   "cell_type": "code",
   "execution_count": 45,
   "id": "6e7fcac9-1f2d-4ca7-a377-54bfa082e0aa",
   "metadata": {},
   "outputs": [],
   "source": [
    "l1.append(l[0] +1)"
   ]
  },
  {
   "cell_type": "code",
   "execution_count": 46,
   "id": "e40214b6-68d4-4bd7-91a6-51595400a084",
   "metadata": {},
   "outputs": [
    {
     "data": {
      "text/plain": [
       "[2]"
      ]
     },
     "execution_count": 46,
     "metadata": {},
     "output_type": "execute_result"
    }
   ],
   "source": [
    "l1"
   ]
  },
  {
   "cell_type": "code",
   "execution_count": 47,
   "id": "55d54f43-282f-447b-a726-547e274800fb",
   "metadata": {},
   "outputs": [
    {
     "data": {
      "text/plain": [
       "[1, 2, 3, 4, 5, 6, 7, 8]"
      ]
     },
     "execution_count": 47,
     "metadata": {},
     "output_type": "execute_result"
    }
   ],
   "source": [
    "l"
   ]
  },
  {
   "cell_type": "code",
   "execution_count": 48,
   "id": "c9d5f549-0373-44cf-9642-6fb136221473",
   "metadata": {},
   "outputs": [],
   "source": [
    "l = [1,2,3,4,5,6,7,8]"
   ]
  },
  {
   "cell_type": "code",
   "execution_count": 49,
   "id": "37188b3a-3d03-43df-980e-b40e0a2cd9d5",
   "metadata": {},
   "outputs": [
    {
     "name": "stdout",
     "output_type": "stream",
     "text": [
      "2\n",
      "3\n",
      "4\n",
      "5\n",
      "6\n",
      "7\n",
      "8\n",
      "9\n"
     ]
    },
    {
     "data": {
      "text/plain": [
       "[2, 3, 4, 5, 6, 7, 8, 9]"
      ]
     },
     "execution_count": 49,
     "metadata": {},
     "output_type": "execute_result"
    }
   ],
   "source": [
    "l1= []\n",
    "for i in l:\n",
    "    print(i+1)\n",
    "    l1.append(i+1)\n",
    "l1"
   ]
  },
  {
   "cell_type": "code",
   "execution_count": 50,
   "id": "14f509b8-9cb2-40e2-abf1-4cdc2172290e",
   "metadata": {},
   "outputs": [
    {
     "data": {
      "text/plain": [
       "[1, 2, 3, 4, 5, 6, 7, 8]"
      ]
     },
     "execution_count": 50,
     "metadata": {},
     "output_type": "execute_result"
    }
   ],
   "source": [
    "l"
   ]
  },
  {
   "cell_type": "code",
   "execution_count": 51,
   "id": "3987bf78-79d7-4a89-a15d-c6b0b1fbd0cd",
   "metadata": {},
   "outputs": [],
   "source": [
    "l = [\"chand\", \"kumar\", \"pwskills\", \"course\"]"
   ]
  },
  {
   "cell_type": "code",
   "execution_count": 52,
   "id": "eb8a7bf9-f35a-4fd7-9423-d62593f5228d",
   "metadata": {},
   "outputs": [
    {
     "name": "stdout",
     "output_type": "stream",
     "text": [
      "chand\n",
      "kumar\n",
      "pwskills\n",
      "course\n"
     ]
    }
   ],
   "source": [
    "l1= []\n",
    "for i in l:\n",
    "    print(i)\n",
    "    l1.append(i.upper())"
   ]
  },
  {
   "cell_type": "code",
   "execution_count": 53,
   "id": "3096d62f-65ef-4128-8cf5-e12caf500e2a",
   "metadata": {},
   "outputs": [
    {
     "data": {
      "text/plain": [
       "['CHAND', 'KUMAR', 'PWSKILLS', 'COURSE']"
      ]
     },
     "execution_count": 53,
     "metadata": {},
     "output_type": "execute_result"
    }
   ],
   "source": [
    "l1"
   ]
  },
  {
   "cell_type": "code",
   "execution_count": 54,
   "id": "e72068ed-f0d7-4bf3-8731-b2877bcd73e6",
   "metadata": {},
   "outputs": [],
   "source": [
    "l = [1,2,3,4,4,\"chand\",\"kumar\",324,34.456,\"abc\"]"
   ]
  },
  {
   "cell_type": "code",
   "execution_count": 57,
   "id": "0343d875-f648-4ee0-bb72-b0366c8c2a10",
   "metadata": {},
   "outputs": [],
   "source": [
    "l1_num=[]\n",
    "l2_str=[]\n",
    "for i in l :\n",
    "    if type(i)==int or type(i)==float :\n",
    "        l1_num.append(i)\n",
    "    else :\n",
    "        l2_str.append(i)"
   ]
  },
  {
   "cell_type": "code",
   "execution_count": 59,
   "id": "31900b97-3877-4db5-ab33-39d4d14716dd",
   "metadata": {},
   "outputs": [
    {
     "data": {
      "text/plain": [
       "[1, 2, 3, 4, 4, 324, 34.456]"
      ]
     },
     "execution_count": 59,
     "metadata": {},
     "output_type": "execute_result"
    }
   ],
   "source": [
    "l1_num"
   ]
  },
  {
   "cell_type": "code",
   "execution_count": 60,
   "id": "e3fa0a80-4e51-4649-b003-c68affaf7a92",
   "metadata": {},
   "outputs": [
    {
     "data": {
      "text/plain": [
       "['chand', 'kumar', 'abc']"
      ]
     },
     "execution_count": 60,
     "metadata": {},
     "output_type": "execute_result"
    }
   ],
   "source": [
    "l2_str"
   ]
  },
  {
   "cell_type": "code",
   "execution_count": null,
   "id": "a90c1c51-4ade-4fee-b8cd-6476be557ef6",
   "metadata": {},
   "outputs": [],
   "source": []
  }
 ],
 "metadata": {
  "kernelspec": {
   "display_name": "Python 3 (ipykernel)",
   "language": "python",
   "name": "python3"
  },
  "language_info": {
   "codemirror_mode": {
    "name": "ipython",
    "version": 3
   },
   "file_extension": ".py",
   "mimetype": "text/x-python",
   "name": "python",
   "nbconvert_exporter": "python",
   "pygments_lexer": "ipython3",
   "version": "3.10.8"
  }
 },
 "nbformat": 4,
 "nbformat_minor": 5
}
